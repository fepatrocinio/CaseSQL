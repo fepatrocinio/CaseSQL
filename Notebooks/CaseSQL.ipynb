{
  "cells": [
    {
      "cell_type": "markdown",
      "metadata": {},
      "source": [
        "# **Cases de SQL**\n",
        "\n",
        "## Objetivo:\n",
        "\n",
        "Demonstrar habilidades em SQL e pensamento analítico, aplicando consultas para resolver problemas de negócios reais.  \n",
        "Os cases incluem extração de dados, cálculos de métricas e manipulação de tabelas relacionadas para gerar insights estratégicos.\n",
        "\n",
        "## Resumo dos Cases:\n",
        "\n",
        "**Case 1:** Encontrar datas e descrições de instalações com pontuação baixa em inspeções de saúde.  \n",
        "**Case 2:** Calcular a diferença entre os maiores salários dos departamentos de marketing e engenharia.  \n",
        "**Case 3:** Exibir dados de clientes e pedidos, incluindo clientes sem pedidos, ordenados por nome e detalhes do pedido.  \n",
        "**Case 4:** Verificar contas premium pagas que permanecem ativas após sete dias, considerando apenas as primeiras datas do período.  \n",
        "**Case 5:** Calcular a relação entre taxas de retenção de usuários em dezembro/2020 e janeiro/2021 por conta.  \n",
        "**Case 6:** Identificar o client_id mais popular baseado em eventos relacionados a chamadas.  \n",
        "\n",
        "## Foram aplicandos:\n",
        "\n",
        "- Análises Exploratórias  \n",
        "- Consultas SQL\n",
        "- Análises complementares e gráficos para melhor detalhamento do resultado. \n",
        "\n",
        "---"
      ]
    },
    {
      "cell_type": "markdown",
      "metadata": {},
      "source": [
        "### Declara as bibliotecas:"
      ]
    },
    {
      "cell_type": "code",
      "execution_count": 30,
      "metadata": {
        "id": "1xNbDfSebyoR"
      },
      "outputs": [],
      "source": [
        "import pandas as pd\n",
        "from IPython.display import display, Markdown\n",
        "import matplotlib.pyplot as plt\n",
        "import duckdb\n",
        "from datetime import datetime\n",
        "import numpy as np\n",
        "import seaborn as sns"
      ]
    },
    {
      "cell_type": "markdown",
      "metadata": {},
      "source": [
        "### Declara função para validações padrões de todas as bases:"
      ]
    },
    {
      "cell_type": "code",
      "execution_count": 12,
      "metadata": {},
      "outputs": [],
      "source": [
        "def valida_df (df, name=\"Base de Dados\"):\n",
        "    \"\"\"\n",
        "    Valida e exibe informações exploratórias de um DataFrame.\n",
        "\n",
        "    Parâmetros:\n",
        "    - df (pd.DataFrame): O DataFrame a ser validado.\n",
        "    - name (str): Nome da base (para identificação nos títulos).\n",
        "    \"\"\"\n",
        "    # Primeiras linhas\n",
        "    display(Markdown(\"### 1 - Primeiras linhas do arquivo\"))\n",
        "    display(df.head())\n",
        "\n",
        "    # Quantidade de linhas e colunas\n",
        "    display(Markdown(\"### 2 - Quantidade de linhas e colunas\"))\n",
        "    print(df.shape)\n",
        "\n",
        "    # Tipos de dados\n",
        "    display(Markdown(\"### 3 - Tipos de dados\"))\n",
        "    print(df.info())\n",
        "\n",
        "    # Estatísticas descritivas\n",
        "    display(Markdown(\"### 4 - Estatísticas descritivas\"))\n",
        "    display(df.describe(include='all'))\n",
        "\n",
        "    # Valores ausentes\n",
        "    display(Markdown(\"### 5 - Valores ausentes por coluna\"))\n",
        "    print(df.isnull().sum())\n",
        "\n",
        "    # Valores únicos\n",
        "    display(Markdown(\"### 6 - Valores únicos por coluna\"))\n",
        "    print(df.nunique())\n",
        "\n",
        "    # Valores duplicados\n",
        "    display(Markdown(\"### 7 - Valores duplicados\"))\n",
        "    print(df.duplicated().sum())"
      ]
    },
    {
      "cell_type": "markdown",
      "metadata": {},
      "source": [
        "---"
      ]
    },
    {
      "cell_type": "markdown",
      "metadata": {
        "id": "lLAbdRjWL-eX"
      },
      "source": [
        "## **Case 1**\n",
        "Objetivo: Encontre a **data da atividade** e a **pe_description** das instalações com o nome '**STREET CHURROS**' e com uma **pontuação inferior a 95 pontos**.\n",
        "\n",
        "**Tabela:** los_angeles_restaurant_health_inspections\n",
        "\n",
        "A base contém informações sobre inspeções sanitárias realizadas em restaurantes do condado de Los Angeles, Califórnia, EUA.\n",
        "\n",
        "**Dicionário de dados:**\n",
        "\n",
        "| **Campo**               | **Tipo**      | **Descrição**                                                                 |\n",
        "|-------------------------|---------------|-------------------------------------------------------------------------------|\n",
        "| **serial_number**       | `varchar`     | Identificador único para o registro da inspeção.                             |\n",
        "| **activity_date**       | `datetime`    | Data da inspeção realizada no estabelecimento.                               |\n",
        "| **facility_name**       | `varchar`     | Nome do estabelecimento inspecionado.                                        |\n",
        "| **score**               | `int`         | Nota da inspeção sanitária.                                                  |\n",
        "| **grade**               | `varchar`     | Classificação atribuída à inspeção (A, B, C, etc.).                          |\n",
        "| **service_code**        | `int`         | Código do serviço relacionado ao estabelecimento.                            |\n",
        "| **service_description** | `varchar`     | Descrição do serviço relacionado ao código informado.                        |\n",
        "| **employee_id**         | `varchar`     | Identificador do inspetor responsável.                                       |\n",
        "| **facility_address**    | `varchar`     | Endereço do estabelecimento inspecionado.                                    |\n",
        "| **facility_city**       | `varchar`     | Cidade onde o estabelecimento está localizado.                               |\n",
        "| **facility_id**         | `varchar`     | Identificador único do estabelecimento.                                      |\n",
        "| **facility_state**      | `varchar`     | Estado onde o estabelecimento está localizado.                               |\n",
        "| **facility_zip**        | `varchar`     | Código postal (CEP) do estabelecimento.                                      |\n",
        "| **owner_id**            | `varchar`     | Identificador único do proprietário do estabelecimento.                      |\n",
        "| **owner_name**          | `varchar`     | Nome do proprietário do estabelecimento.                                     |\n",
        "| **pe_description**      | `varchar`     | Descrição do elemento do programa relacionado ao serviço.                    |\n",
        "| **program_element_pe**  | `int`         | Código do elemento do programa relacionado ao serviço.                       |\n",
        "| **program_name**        | `varchar`     | Nome do programa de saúde pública ou serviço associado à inspeção.           |\n",
        "| **program_status**      | `varchar`     | Status do programa ou serviço (ativo, inativo, etc.).                        |\n",
        "| **record_id**           | `varchar`     | Identificador único do registro na tabela.                                   |"
      ]
    },
    {
      "cell_type": "markdown",
      "metadata": {
        "id": "BuMClrjIa3k3"
      },
      "source": [
        "## Leitura e validação:"
      ]
    },
    {
      "cell_type": "code",
      "execution_count": 13,
      "metadata": {
        "colab": {
          "base_uri": "https://localhost:8080/",
          "height": 356
        },
        "id": "h8zo3pbzM9G7",
        "outputId": "f0454070-7c02-4aca-b24f-693c031b8d1f"
      },
      "outputs": [
        {
          "data": {
            "text/markdown": [
              "### 1 - Primeiras linhas do arquivo"
            ],
            "text/plain": [
              "<IPython.core.display.Markdown object>"
            ]
          },
          "metadata": {},
          "output_type": "display_data"
        },
        {
          "data": {
            "text/html": [
              "<div>\n",
              "<style scoped>\n",
              "    .dataframe tbody tr th:only-of-type {\n",
              "        vertical-align: middle;\n",
              "    }\n",
              "\n",
              "    .dataframe tbody tr th {\n",
              "        vertical-align: top;\n",
              "    }\n",
              "\n",
              "    .dataframe thead th {\n",
              "        text-align: right;\n",
              "    }\n",
              "</style>\n",
              "<table border=\"1\" class=\"dataframe\">\n",
              "  <thead>\n",
              "    <tr style=\"text-align: right;\">\n",
              "      <th></th>\n",
              "      <th>erial_number</th>\n",
              "      <th>activity_date</th>\n",
              "      <th>facility_name</th>\n",
              "      <th>score</th>\n",
              "      <th>grade</th>\n",
              "      <th>service_code</th>\n",
              "      <th>service_description</th>\n",
              "      <th>employee_id</th>\n",
              "      <th>facility_address</th>\n",
              "      <th>facility_city</th>\n",
              "      <th>facility_id</th>\n",
              "      <th>facility_state</th>\n",
              "      <th>facility_zip</th>\n",
              "      <th>owner_id</th>\n",
              "      <th>owner_name</th>\n",
              "      <th>pe_description</th>\n",
              "      <th>program_element_pe</th>\n",
              "      <th>program_name</th>\n",
              "      <th>program_status</th>\n",
              "      <th>record_id</th>\n",
              "    </tr>\n",
              "  </thead>\n",
              "  <tbody>\n",
              "    <tr>\n",
              "      <th>0</th>\n",
              "      <td>DAQHRSETQ</td>\n",
              "      <td>08/06/2017</td>\n",
              "      <td>MARGARITAS CAFE</td>\n",
              "      <td>93</td>\n",
              "      <td>A</td>\n",
              "      <td>1</td>\n",
              "      <td>ROUTINE INSPECTION</td>\n",
              "      <td>EE0000006</td>\n",
              "      <td>5026 S CRENSHAW BLVD</td>\n",
              "      <td>LOS ANGELES</td>\n",
              "      <td>FA0023656</td>\n",
              "      <td>CA</td>\n",
              "      <td>90043</td>\n",
              "      <td>OW0004133</td>\n",
              "      <td>BAZAN, ASCENCION</td>\n",
              "      <td>RESTAURANT (61-150) SEATS HIGH RISK</td>\n",
              "      <td>1638</td>\n",
              "      <td>MARGARITAS CAFE</td>\n",
              "      <td>ACTIVE</td>\n",
              "      <td>PR0011718</td>\n",
              "    </tr>\n",
              "    <tr>\n",
              "      <th>1</th>\n",
              "      <td>DA2GQRJOS</td>\n",
              "      <td>07/03/2017</td>\n",
              "      <td>LAS MOLENDERAS</td>\n",
              "      <td>97</td>\n",
              "      <td>A</td>\n",
              "      <td>1</td>\n",
              "      <td>ROUTINE INSPECTION</td>\n",
              "      <td>EE0000997</td>\n",
              "      <td>2635 WHITTIER BLVD</td>\n",
              "      <td>LOS ANGELES</td>\n",
              "      <td>FA0160416</td>\n",
              "      <td>CA</td>\n",
              "      <td>90023</td>\n",
              "      <td>OW0125379</td>\n",
              "      <td>MARISOL FEREGRINO</td>\n",
              "      <td>RESTAURANT (0-30) SEATS HIGH RISK</td>\n",
              "      <td>1632</td>\n",
              "      <td>LAS MOLENDERAS</td>\n",
              "      <td>INACTIVE</td>\n",
              "      <td>PR0148504</td>\n",
              "    </tr>\n",
              "    <tr>\n",
              "      <th>2</th>\n",
              "      <td>DAMQTA46T</td>\n",
              "      <td>22/03/2016</td>\n",
              "      <td>SANDRA'S TAMALES</td>\n",
              "      <td>93</td>\n",
              "      <td>A</td>\n",
              "      <td>1</td>\n",
              "      <td>ROUTINE INSPECTION</td>\n",
              "      <td>EE0001049</td>\n",
              "      <td>5390 WHITTIER BLVD</td>\n",
              "      <td>LOS ANGELES</td>\n",
              "      <td>FA0171769</td>\n",
              "      <td>CA</td>\n",
              "      <td>90022-4032</td>\n",
              "      <td>OW0178828</td>\n",
              "      <td>SANDRA'S TAMALES INC.</td>\n",
              "      <td>RESTAURANT (0-30) SEATS MODERATE RISK</td>\n",
              "      <td>1631</td>\n",
              "      <td>SANDRA'S TAMALES</td>\n",
              "      <td>ACTIVE</td>\n",
              "      <td>PR0164225</td>\n",
              "    </tr>\n",
              "    <tr>\n",
              "      <th>3</th>\n",
              "      <td>DAXMBTIRZ</td>\n",
              "      <td>12/02/2018</td>\n",
              "      <td>CAFE GRATITUDE</td>\n",
              "      <td>97</td>\n",
              "      <td>A</td>\n",
              "      <td>1</td>\n",
              "      <td>ROUTINE INSPECTION</td>\n",
              "      <td>EE0000828</td>\n",
              "      <td>639 N LARCHMONT BLVD STE #102</td>\n",
              "      <td>LOS ANGELES</td>\n",
              "      <td>FA0058921</td>\n",
              "      <td>CA</td>\n",
              "      <td>90004</td>\n",
              "      <td>OW0005704</td>\n",
              "      <td>CAFE GRATITUDE LARCHMONT LLC</td>\n",
              "      <td>RESTAURANT (61-150) SEATS HIGH RISK</td>\n",
              "      <td>1638</td>\n",
              "      <td>CAFE GRATITUDE</td>\n",
              "      <td>ACTIVE</td>\n",
              "      <td>PR0019854</td>\n",
              "    </tr>\n",
              "    <tr>\n",
              "      <th>4</th>\n",
              "      <td>DAK8TBMS0</td>\n",
              "      <td>10/09/2015</td>\n",
              "      <td>THE WAFFLE</td>\n",
              "      <td>90</td>\n",
              "      <td>A</td>\n",
              "      <td>1</td>\n",
              "      <td>ROUTINE INSPECTION</td>\n",
              "      <td>EE0000709</td>\n",
              "      <td>6255 W SUNSET BLVD STE #105</td>\n",
              "      <td>LOS ANGELES</td>\n",
              "      <td>FA0051830</td>\n",
              "      <td>CA</td>\n",
              "      <td>90028</td>\n",
              "      <td>OW0035796</td>\n",
              "      <td>THE WAFFLE, LLC</td>\n",
              "      <td>RESTAURANT (61-150) SEATS HIGH RISK</td>\n",
              "      <td>1638</td>\n",
              "      <td>THE WAFFLE</td>\n",
              "      <td>ACTIVE</td>\n",
              "      <td>PR0010922</td>\n",
              "    </tr>\n",
              "  </tbody>\n",
              "</table>\n",
              "</div>"
            ],
            "text/plain": [
              "  erial_number activity_date     facility_name  score grade  service_code  \\\n",
              "0    DAQHRSETQ    08/06/2017   MARGARITAS CAFE     93     A             1   \n",
              "1    DA2GQRJOS    07/03/2017    LAS MOLENDERAS     97     A             1   \n",
              "2    DAMQTA46T    22/03/2016  SANDRA'S TAMALES     93     A             1   \n",
              "3    DAXMBTIRZ    12/02/2018    CAFE GRATITUDE     97     A             1   \n",
              "4    DAK8TBMS0    10/09/2015        THE WAFFLE     90     A             1   \n",
              "\n",
              "  service_description employee_id               facility_address  \\\n",
              "0  ROUTINE INSPECTION   EE0000006           5026 S CRENSHAW BLVD   \n",
              "1  ROUTINE INSPECTION   EE0000997             2635 WHITTIER BLVD   \n",
              "2  ROUTINE INSPECTION   EE0001049             5390 WHITTIER BLVD   \n",
              "3  ROUTINE INSPECTION   EE0000828  639 N LARCHMONT BLVD STE #102   \n",
              "4  ROUTINE INSPECTION   EE0000709    6255 W SUNSET BLVD STE #105   \n",
              "\n",
              "  facility_city facility_id facility_state facility_zip   owner_id  \\\n",
              "0   LOS ANGELES   FA0023656             CA        90043  OW0004133   \n",
              "1   LOS ANGELES   FA0160416             CA        90023  OW0125379   \n",
              "2   LOS ANGELES   FA0171769             CA   90022-4032  OW0178828   \n",
              "3   LOS ANGELES   FA0058921             CA        90004  OW0005704   \n",
              "4   LOS ANGELES   FA0051830             CA        90028  OW0035796   \n",
              "\n",
              "                     owner_name                         pe_description  \\\n",
              "0              BAZAN, ASCENCION    RESTAURANT (61-150) SEATS HIGH RISK   \n",
              "1             MARISOL FEREGRINO      RESTAURANT (0-30) SEATS HIGH RISK   \n",
              "2         SANDRA'S TAMALES INC.  RESTAURANT (0-30) SEATS MODERATE RISK   \n",
              "3  CAFE GRATITUDE LARCHMONT LLC    RESTAURANT (61-150) SEATS HIGH RISK   \n",
              "4               THE WAFFLE, LLC    RESTAURANT (61-150) SEATS HIGH RISK   \n",
              "\n",
              "   program_element_pe      program_name program_status  record_id  \n",
              "0                1638   MARGARITAS CAFE         ACTIVE  PR0011718  \n",
              "1                1632    LAS MOLENDERAS       INACTIVE  PR0148504  \n",
              "2                1631  SANDRA'S TAMALES         ACTIVE  PR0164225  \n",
              "3                1638    CAFE GRATITUDE         ACTIVE  PR0019854  \n",
              "4                1638        THE WAFFLE         ACTIVE  PR0010922  "
            ]
          },
          "metadata": {},
          "output_type": "display_data"
        },
        {
          "data": {
            "text/markdown": [
              "### 2 - Quantidade de linhas e colunas"
            ],
            "text/plain": [
              "<IPython.core.display.Markdown object>"
            ]
          },
          "metadata": {},
          "output_type": "display_data"
        },
        {
          "name": "stdout",
          "output_type": "stream",
          "text": [
            "(299, 20)\n"
          ]
        },
        {
          "data": {
            "text/markdown": [
              "### 3 - Tipos de dados"
            ],
            "text/plain": [
              "<IPython.core.display.Markdown object>"
            ]
          },
          "metadata": {},
          "output_type": "display_data"
        },
        {
          "name": "stdout",
          "output_type": "stream",
          "text": [
            "<class 'pandas.core.frame.DataFrame'>\n",
            "RangeIndex: 299 entries, 0 to 298\n",
            "Data columns (total 20 columns):\n",
            " #   Column               Non-Null Count  Dtype \n",
            "---  ------               --------------  ----- \n",
            " 0   erial_number         299 non-null    object\n",
            " 1   activity_date        299 non-null    object\n",
            " 2   facility_name        299 non-null    object\n",
            " 3   score                299 non-null    int64 \n",
            " 4   grade                299 non-null    object\n",
            " 5   service_code         299 non-null    int64 \n",
            " 6   service_description  299 non-null    object\n",
            " 7   employee_id          299 non-null    object\n",
            " 8   facility_address     299 non-null    object\n",
            " 9   facility_city        299 non-null    object\n",
            " 10  facility_id          299 non-null    object\n",
            " 11  facility_state       299 non-null    object\n",
            " 12  facility_zip         299 non-null    object\n",
            " 13  owner_id             299 non-null    object\n",
            " 14  owner_name           299 non-null    object\n",
            " 15  pe_description       299 non-null    object\n",
            " 16  program_element_pe   299 non-null    int64 \n",
            " 17  program_name         297 non-null    object\n",
            " 18  program_status       299 non-null    object\n",
            " 19  record_id            299 non-null    object\n",
            "dtypes: int64(3), object(17)\n",
            "memory usage: 46.8+ KB\n",
            "None\n"
          ]
        },
        {
          "data": {
            "text/markdown": [
              "### 4 - Estatísticas descritivas"
            ],
            "text/plain": [
              "<IPython.core.display.Markdown object>"
            ]
          },
          "metadata": {},
          "output_type": "display_data"
        },
        {
          "data": {
            "text/html": [
              "<div>\n",
              "<style scoped>\n",
              "    .dataframe tbody tr th:only-of-type {\n",
              "        vertical-align: middle;\n",
              "    }\n",
              "\n",
              "    .dataframe tbody tr th {\n",
              "        vertical-align: top;\n",
              "    }\n",
              "\n",
              "    .dataframe thead th {\n",
              "        text-align: right;\n",
              "    }\n",
              "</style>\n",
              "<table border=\"1\" class=\"dataframe\">\n",
              "  <thead>\n",
              "    <tr style=\"text-align: right;\">\n",
              "      <th></th>\n",
              "      <th>erial_number</th>\n",
              "      <th>activity_date</th>\n",
              "      <th>facility_name</th>\n",
              "      <th>score</th>\n",
              "      <th>grade</th>\n",
              "      <th>service_code</th>\n",
              "      <th>service_description</th>\n",
              "      <th>employee_id</th>\n",
              "      <th>facility_address</th>\n",
              "      <th>facility_city</th>\n",
              "      <th>facility_id</th>\n",
              "      <th>facility_state</th>\n",
              "      <th>facility_zip</th>\n",
              "      <th>owner_id</th>\n",
              "      <th>owner_name</th>\n",
              "      <th>pe_description</th>\n",
              "      <th>program_element_pe</th>\n",
              "      <th>program_name</th>\n",
              "      <th>program_status</th>\n",
              "      <th>record_id</th>\n",
              "    </tr>\n",
              "  </thead>\n",
              "  <tbody>\n",
              "    <tr>\n",
              "      <th>count</th>\n",
              "      <td>299</td>\n",
              "      <td>299</td>\n",
              "      <td>299</td>\n",
              "      <td>299.000000</td>\n",
              "      <td>299</td>\n",
              "      <td>299.000000</td>\n",
              "      <td>299</td>\n",
              "      <td>299</td>\n",
              "      <td>299</td>\n",
              "      <td>299</td>\n",
              "      <td>299</td>\n",
              "      <td>299</td>\n",
              "      <td>299</td>\n",
              "      <td>299</td>\n",
              "      <td>299</td>\n",
              "      <td>299</td>\n",
              "      <td>299.000000</td>\n",
              "      <td>297</td>\n",
              "      <td>299</td>\n",
              "      <td>299</td>\n",
              "    </tr>\n",
              "    <tr>\n",
              "      <th>unique</th>\n",
              "      <td>299</td>\n",
              "      <td>236</td>\n",
              "      <td>229</td>\n",
              "      <td>NaN</td>\n",
              "      <td>3</td>\n",
              "      <td>NaN</td>\n",
              "      <td>2</td>\n",
              "      <td>75</td>\n",
              "      <td>231</td>\n",
              "      <td>1</td>\n",
              "      <td>232</td>\n",
              "      <td>1</td>\n",
              "      <td>71</td>\n",
              "      <td>217</td>\n",
              "      <td>214</td>\n",
              "      <td>15</td>\n",
              "      <td>NaN</td>\n",
              "      <td>229</td>\n",
              "      <td>2</td>\n",
              "      <td>233</td>\n",
              "    </tr>\n",
              "    <tr>\n",
              "      <th>top</th>\n",
              "      <td>DAE6M32LL</td>\n",
              "      <td>27/01/2016</td>\n",
              "      <td>TAMALES ALBERTO</td>\n",
              "      <td>NaN</td>\n",
              "      <td>A</td>\n",
              "      <td>NaN</td>\n",
              "      <td>ROUTINE INSPECTION</td>\n",
              "      <td>EE0000721</td>\n",
              "      <td>1644 W TEMPLE ST</td>\n",
              "      <td>LOS ANGELES</td>\n",
              "      <td>FA0071840</td>\n",
              "      <td>CA</td>\n",
              "      <td>90045</td>\n",
              "      <td>OW0000115</td>\n",
              "      <td>110 SUNSHINE SMOOTHIES, INC</td>\n",
              "      <td>RESTAURANT (0-30) SEATS HIGH RISK</td>\n",
              "      <td>NaN</td>\n",
              "      <td>TAMALES ALBERTO</td>\n",
              "      <td>ACTIVE</td>\n",
              "      <td>PR0046859</td>\n",
              "    </tr>\n",
              "    <tr>\n",
              "      <th>freq</th>\n",
              "      <td>1</td>\n",
              "      <td>5</td>\n",
              "      <td>7</td>\n",
              "      <td>NaN</td>\n",
              "      <td>264</td>\n",
              "      <td>NaN</td>\n",
              "      <td>289</td>\n",
              "      <td>20</td>\n",
              "      <td>7</td>\n",
              "      <td>299</td>\n",
              "      <td>7</td>\n",
              "      <td>299</td>\n",
              "      <td>21</td>\n",
              "      <td>15</td>\n",
              "      <td>15</td>\n",
              "      <td>67</td>\n",
              "      <td>NaN</td>\n",
              "      <td>7</td>\n",
              "      <td>273</td>\n",
              "      <td>7</td>\n",
              "    </tr>\n",
              "    <tr>\n",
              "      <th>mean</th>\n",
              "      <td>NaN</td>\n",
              "      <td>NaN</td>\n",
              "      <td>NaN</td>\n",
              "      <td>92.692308</td>\n",
              "      <td>NaN</td>\n",
              "      <td>14.377926</td>\n",
              "      <td>NaN</td>\n",
              "      <td>NaN</td>\n",
              "      <td>NaN</td>\n",
              "      <td>NaN</td>\n",
              "      <td>NaN</td>\n",
              "      <td>NaN</td>\n",
              "      <td>NaN</td>\n",
              "      <td>NaN</td>\n",
              "      <td>NaN</td>\n",
              "      <td>NaN</td>\n",
              "      <td>1630.247492</td>\n",
              "      <td>NaN</td>\n",
              "      <td>NaN</td>\n",
              "      <td>NaN</td>\n",
              "    </tr>\n",
              "    <tr>\n",
              "      <th>std</th>\n",
              "      <td>NaN</td>\n",
              "      <td>NaN</td>\n",
              "      <td>NaN</td>\n",
              "      <td>5.932419</td>\n",
              "      <td>NaN</td>\n",
              "      <td>72.038587</td>\n",
              "      <td>NaN</td>\n",
              "      <td>NaN</td>\n",
              "      <td>NaN</td>\n",
              "      <td>NaN</td>\n",
              "      <td>NaN</td>\n",
              "      <td>NaN</td>\n",
              "      <td>NaN</td>\n",
              "      <td>NaN</td>\n",
              "      <td>NaN</td>\n",
              "      <td>NaN</td>\n",
              "      <td>8.731199</td>\n",
              "      <td>NaN</td>\n",
              "      <td>NaN</td>\n",
              "      <td>NaN</td>\n",
              "    </tr>\n",
              "    <tr>\n",
              "      <th>min</th>\n",
              "      <td>NaN</td>\n",
              "      <td>NaN</td>\n",
              "      <td>NaN</td>\n",
              "      <td>70.000000</td>\n",
              "      <td>NaN</td>\n",
              "      <td>1.000000</td>\n",
              "      <td>NaN</td>\n",
              "      <td>NaN</td>\n",
              "      <td>NaN</td>\n",
              "      <td>NaN</td>\n",
              "      <td>NaN</td>\n",
              "      <td>NaN</td>\n",
              "      <td>NaN</td>\n",
              "      <td>NaN</td>\n",
              "      <td>NaN</td>\n",
              "      <td>NaN</td>\n",
              "      <td>1610.000000</td>\n",
              "      <td>NaN</td>\n",
              "      <td>NaN</td>\n",
              "      <td>NaN</td>\n",
              "    </tr>\n",
              "    <tr>\n",
              "      <th>25%</th>\n",
              "      <td>NaN</td>\n",
              "      <td>NaN</td>\n",
              "      <td>NaN</td>\n",
              "      <td>91.000000</td>\n",
              "      <td>NaN</td>\n",
              "      <td>1.000000</td>\n",
              "      <td>NaN</td>\n",
              "      <td>NaN</td>\n",
              "      <td>NaN</td>\n",
              "      <td>NaN</td>\n",
              "      <td>NaN</td>\n",
              "      <td>NaN</td>\n",
              "      <td>NaN</td>\n",
              "      <td>NaN</td>\n",
              "      <td>NaN</td>\n",
              "      <td>NaN</td>\n",
              "      <td>1631.000000</td>\n",
              "      <td>NaN</td>\n",
              "      <td>NaN</td>\n",
              "      <td>NaN</td>\n",
              "    </tr>\n",
              "    <tr>\n",
              "      <th>50%</th>\n",
              "      <td>NaN</td>\n",
              "      <td>NaN</td>\n",
              "      <td>NaN</td>\n",
              "      <td>94.000000</td>\n",
              "      <td>NaN</td>\n",
              "      <td>1.000000</td>\n",
              "      <td>NaN</td>\n",
              "      <td>NaN</td>\n",
              "      <td>NaN</td>\n",
              "      <td>NaN</td>\n",
              "      <td>NaN</td>\n",
              "      <td>NaN</td>\n",
              "      <td>NaN</td>\n",
              "      <td>NaN</td>\n",
              "      <td>NaN</td>\n",
              "      <td>NaN</td>\n",
              "      <td>1632.000000</td>\n",
              "      <td>NaN</td>\n",
              "      <td>NaN</td>\n",
              "      <td>NaN</td>\n",
              "    </tr>\n",
              "    <tr>\n",
              "      <th>75%</th>\n",
              "      <td>NaN</td>\n",
              "      <td>NaN</td>\n",
              "      <td>NaN</td>\n",
              "      <td>96.000000</td>\n",
              "      <td>NaN</td>\n",
              "      <td>1.000000</td>\n",
              "      <td>NaN</td>\n",
              "      <td>NaN</td>\n",
              "      <td>NaN</td>\n",
              "      <td>NaN</td>\n",
              "      <td>NaN</td>\n",
              "      <td>NaN</td>\n",
              "      <td>NaN</td>\n",
              "      <td>NaN</td>\n",
              "      <td>NaN</td>\n",
              "      <td>NaN</td>\n",
              "      <td>1635.000000</td>\n",
              "      <td>NaN</td>\n",
              "      <td>NaN</td>\n",
              "      <td>NaN</td>\n",
              "    </tr>\n",
              "    <tr>\n",
              "      <th>max</th>\n",
              "      <td>NaN</td>\n",
              "      <td>NaN</td>\n",
              "      <td>NaN</td>\n",
              "      <td>100.000000</td>\n",
              "      <td>NaN</td>\n",
              "      <td>401.000000</td>\n",
              "      <td>NaN</td>\n",
              "      <td>NaN</td>\n",
              "      <td>NaN</td>\n",
              "      <td>NaN</td>\n",
              "      <td>NaN</td>\n",
              "      <td>NaN</td>\n",
              "      <td>NaN</td>\n",
              "      <td>NaN</td>\n",
              "      <td>NaN</td>\n",
              "      <td>NaN</td>\n",
              "      <td>1641.000000</td>\n",
              "      <td>NaN</td>\n",
              "      <td>NaN</td>\n",
              "      <td>NaN</td>\n",
              "    </tr>\n",
              "  </tbody>\n",
              "</table>\n",
              "</div>"
            ],
            "text/plain": [
              "       erial_number activity_date    facility_name       score grade  \\\n",
              "count           299           299              299  299.000000   299   \n",
              "unique          299           236              229         NaN     3   \n",
              "top       DAE6M32LL    27/01/2016  TAMALES ALBERTO         NaN     A   \n",
              "freq              1             5                7         NaN   264   \n",
              "mean            NaN           NaN              NaN   92.692308   NaN   \n",
              "std             NaN           NaN              NaN    5.932419   NaN   \n",
              "min             NaN           NaN              NaN   70.000000   NaN   \n",
              "25%             NaN           NaN              NaN   91.000000   NaN   \n",
              "50%             NaN           NaN              NaN   94.000000   NaN   \n",
              "75%             NaN           NaN              NaN   96.000000   NaN   \n",
              "max             NaN           NaN              NaN  100.000000   NaN   \n",
              "\n",
              "        service_code service_description employee_id  facility_address  \\\n",
              "count     299.000000                 299         299               299   \n",
              "unique           NaN                   2          75               231   \n",
              "top              NaN  ROUTINE INSPECTION   EE0000721  1644 W TEMPLE ST   \n",
              "freq             NaN                 289          20                 7   \n",
              "mean       14.377926                 NaN         NaN               NaN   \n",
              "std        72.038587                 NaN         NaN               NaN   \n",
              "min         1.000000                 NaN         NaN               NaN   \n",
              "25%         1.000000                 NaN         NaN               NaN   \n",
              "50%         1.000000                 NaN         NaN               NaN   \n",
              "75%         1.000000                 NaN         NaN               NaN   \n",
              "max       401.000000                 NaN         NaN               NaN   \n",
              "\n",
              "       facility_city facility_id facility_state facility_zip   owner_id  \\\n",
              "count            299         299            299          299        299   \n",
              "unique             1         232              1           71        217   \n",
              "top      LOS ANGELES   FA0071840             CA        90045  OW0000115   \n",
              "freq             299           7            299           21         15   \n",
              "mean             NaN         NaN            NaN          NaN        NaN   \n",
              "std              NaN         NaN            NaN          NaN        NaN   \n",
              "min              NaN         NaN            NaN          NaN        NaN   \n",
              "25%              NaN         NaN            NaN          NaN        NaN   \n",
              "50%              NaN         NaN            NaN          NaN        NaN   \n",
              "75%              NaN         NaN            NaN          NaN        NaN   \n",
              "max              NaN         NaN            NaN          NaN        NaN   \n",
              "\n",
              "                         owner_name                     pe_description  \\\n",
              "count                           299                                299   \n",
              "unique                          214                                 15   \n",
              "top     110 SUNSHINE SMOOTHIES, INC  RESTAURANT (0-30) SEATS HIGH RISK   \n",
              "freq                             15                                 67   \n",
              "mean                            NaN                                NaN   \n",
              "std                             NaN                                NaN   \n",
              "min                             NaN                                NaN   \n",
              "25%                             NaN                                NaN   \n",
              "50%                             NaN                                NaN   \n",
              "75%                             NaN                                NaN   \n",
              "max                             NaN                                NaN   \n",
              "\n",
              "        program_element_pe     program_name program_status  record_id  \n",
              "count           299.000000              297            299        299  \n",
              "unique                 NaN              229              2        233  \n",
              "top                    NaN  TAMALES ALBERTO         ACTIVE  PR0046859  \n",
              "freq                   NaN                7            273          7  \n",
              "mean           1630.247492              NaN            NaN        NaN  \n",
              "std               8.731199              NaN            NaN        NaN  \n",
              "min            1610.000000              NaN            NaN        NaN  \n",
              "25%            1631.000000              NaN            NaN        NaN  \n",
              "50%            1632.000000              NaN            NaN        NaN  \n",
              "75%            1635.000000              NaN            NaN        NaN  \n",
              "max            1641.000000              NaN            NaN        NaN  "
            ]
          },
          "metadata": {},
          "output_type": "display_data"
        },
        {
          "data": {
            "text/markdown": [
              "### 5 - Valores ausentes por coluna"
            ],
            "text/plain": [
              "<IPython.core.display.Markdown object>"
            ]
          },
          "metadata": {},
          "output_type": "display_data"
        },
        {
          "name": "stdout",
          "output_type": "stream",
          "text": [
            "erial_number           0\n",
            "activity_date          0\n",
            "facility_name          0\n",
            "score                  0\n",
            "grade                  0\n",
            "service_code           0\n",
            "service_description    0\n",
            "employee_id            0\n",
            "facility_address       0\n",
            "facility_city          0\n",
            "facility_id            0\n",
            "facility_state         0\n",
            "facility_zip           0\n",
            "owner_id               0\n",
            "owner_name             0\n",
            "pe_description         0\n",
            "program_element_pe     0\n",
            "program_name           2\n",
            "program_status         0\n",
            "record_id              0\n",
            "dtype: int64\n"
          ]
        },
        {
          "data": {
            "text/markdown": [
              "### 6 - Valores únicos por coluna"
            ],
            "text/plain": [
              "<IPython.core.display.Markdown object>"
            ]
          },
          "metadata": {},
          "output_type": "display_data"
        },
        {
          "name": "stdout",
          "output_type": "stream",
          "text": [
            "erial_number           299\n",
            "activity_date          236\n",
            "facility_name          229\n",
            "score                   27\n",
            "grade                    3\n",
            "service_code             2\n",
            "service_description      2\n",
            "employee_id             75\n",
            "facility_address       231\n",
            "facility_city            1\n",
            "facility_id            232\n",
            "facility_state           1\n",
            "facility_zip            71\n",
            "owner_id               217\n",
            "owner_name             214\n",
            "pe_description          15\n",
            "program_element_pe      15\n",
            "program_name           229\n",
            "program_status           2\n",
            "record_id              233\n",
            "dtype: int64\n"
          ]
        },
        {
          "data": {
            "text/markdown": [
              "### 7 - Valores duplicados"
            ],
            "text/plain": [
              "<IPython.core.display.Markdown object>"
            ]
          },
          "metadata": {},
          "output_type": "display_data"
        },
        {
          "name": "stdout",
          "output_type": "stream",
          "text": [
            "0\n"
          ]
        }
      ],
      "source": [
        "# Carregar o CSV\n",
        "df_restaurant = pd.read_csv('../Data/Raw/los_angeles_restaurant_health_inspections.csv', sep=\";\")\n",
        "\n",
        "valida_df(df_restaurant, 'los_angeles_restaurant_health_inspections')"
      ]
    },
    {
      "cell_type": "markdown",
      "metadata": {},
      "source": [
        "## Validações específicas do case:"
      ]
    },
    {
      "cell_type": "code",
      "execution_count": 14,
      "metadata": {
        "id": "OtMGoT0omORW"
      },
      "outputs": [
        {
          "name": "stdout",
          "output_type": "stream",
          "text": [
            "Quantidade de registros na base para o restautante STREET CHURROS': 3\n"
          ]
        }
      ],
      "source": [
        "# Filtrar o DataFrame pelo nome do restaurante 'STREET CHURROS'\n",
        "df_valida = df_restaurant[df_restaurant['facility_name'] == 'STREET CHURROS']\n",
        "\n",
        "# Contar o número de registros (linhas) para o restaurante filtrado\n",
        "count = df_valida.shape[0]\n",
        "\n",
        "\n",
        "print(f\"Quantidade de registros na base para o restautante STREET CHURROS': {count}\")\n",
        "\n"
      ]
    },
    {
      "cell_type": "markdown",
      "metadata": {
        "id": "M3pkQJYmg1jf"
      },
      "source": [
        "## Consulta:"
      ]
    },
    {
      "cell_type": "code",
      "execution_count": 15,
      "metadata": {
        "colab": {
          "base_uri": "https://localhost:8080/",
          "height": 143
        },
        "id": "i8ony3tIgfID",
        "outputId": "1c712ae0-fcc0-4d0d-909c-8d742b32f284"
      },
      "outputs": [
        {
          "data": {
            "text/html": [
              "<div>\n",
              "<style scoped>\n",
              "    .dataframe tbody tr th:only-of-type {\n",
              "        vertical-align: middle;\n",
              "    }\n",
              "\n",
              "    .dataframe tbody tr th {\n",
              "        vertical-align: top;\n",
              "    }\n",
              "\n",
              "    .dataframe thead th {\n",
              "        text-align: right;\n",
              "    }\n",
              "</style>\n",
              "<table border=\"1\" class=\"dataframe\">\n",
              "  <thead>\n",
              "    <tr style=\"text-align: right;\">\n",
              "      <th></th>\n",
              "      <th>facility_name</th>\n",
              "      <th>score</th>\n",
              "      <th>activity_date</th>\n",
              "      <th>pe_description</th>\n",
              "    </tr>\n",
              "  </thead>\n",
              "  <tbody>\n",
              "    <tr>\n",
              "      <th>0</th>\n",
              "      <td>STREET CHURROS</td>\n",
              "      <td>93</td>\n",
              "      <td>29/12/2017</td>\n",
              "      <td>RESTAURANT (0-30) SEATS LOW RISK</td>\n",
              "    </tr>\n",
              "    <tr>\n",
              "      <th>1</th>\n",
              "      <td>STREET CHURROS</td>\n",
              "      <td>91</td>\n",
              "      <td>01/12/2016</td>\n",
              "      <td>RESTAURANT (0-30) SEATS LOW RISK</td>\n",
              "    </tr>\n",
              "    <tr>\n",
              "      <th>2</th>\n",
              "      <td>STREET CHURROS</td>\n",
              "      <td>94</td>\n",
              "      <td>16/06/2016</td>\n",
              "      <td>RESTAURANT (0-30) SEATS LOW RISK</td>\n",
              "    </tr>\n",
              "  </tbody>\n",
              "</table>\n",
              "</div>"
            ],
            "text/plain": [
              "    facility_name  score activity_date                    pe_description\n",
              "0  STREET CHURROS     93    29/12/2017  RESTAURANT (0-30) SEATS LOW RISK\n",
              "1  STREET CHURROS     91    01/12/2016  RESTAURANT (0-30) SEATS LOW RISK\n",
              "2  STREET CHURROS     94    16/06/2016  RESTAURANT (0-30) SEATS LOW RISK"
            ]
          },
          "metadata": {},
          "output_type": "display_data"
        }
      ],
      "source": [
        "query = \"\"\"\n",
        "SELECT FACILITY_NAME, SCORE, \n",
        "       ACTIVITY_DATE,\n",
        "       PE_DESCRIPTION\n",
        "FROM df_restaurant\n",
        "WHERE 1 = 1\n",
        "  AND FACILITY_NAME = 'STREET CHURROS'\n",
        "  AND SCORE < 95\n",
        "\"\"\"\n",
        "\n",
        "# Executar o SQL\n",
        "result = duckdb.query(query).to_df()\n",
        "\n",
        "# Mostrar o resultado\n",
        "display(result)"
      ]
    },
    {
      "cell_type": "markdown",
      "metadata": {},
      "source": [
        "## Resultado: \n",
        "\n",
        "Houveram somente 3 inspeções sanitárias no restaurante STREET CHURROS, todas com pontuação inferior a 95, no período entre 06/2026 e 12/2027. \n",
        "\n",
        "Em todas as inspeções, o estabelecimento recebeu a classificação \"RESTAURANT (0-30) SEATS LOW RISK\", indicando que o restaurante possui capacidade para até 30 pessoas e é classificado como de baixo risco sanitário.\n",
        "\n",
        "---"
      ]
    },
    {
      "cell_type": "markdown",
      "metadata": {
        "id": "TuPUEn6fiwha"
      },
      "source": [
        "## **Case 2**\n",
        "Objetivo: Escreva uma consulta que **calcule a diferença entre os maiores salários** encontrados nos departamentos de **marketing e engenharia**. Exiba apenas a **diferença absoluta** entre os salários.\n",
        "\n",
        "**Tabelas:** db_employee e db_dept.\n",
        "\n",
        "Tabela **db_employee** - Armazena informações sobre os funcionários de uma organização. \n",
        "\n",
        "**Dicionário de dados:**\n",
        "\n",
        "| **Campo**         | **Tipo**  | **Descrição**                                              |\n",
        "|-------------------|-----------|----------------------------------------------------------|\n",
        "| **id**            | `int`     | Identificador único do empregado (chave primária).        |\n",
        "| **first_name**    | `varchar` | Primeiro nome do empregado.                               |\n",
        "| **last_name**     | `varchar` | Sobrenome do empregado.                                   |\n",
        "| **salary**        | `int`     | Salário do empregado.                                     |\n",
        "| **department_id** | `int`     | Identificador do departamento ao qual o empregado pertence (chave estrangeira). |\n",
        "\n",
        "\n",
        "Tabela **db_dept** - Armazenar informações sobre os departamentos da organização.\n",
        "\n",
        "**Dicionário de dados:**\n",
        "\n",
        "| **Campo**      | **Tipo**  | **Descrição**                                  |\n",
        "|----------------|-----------|-----------------------------------------------|\n",
        "| **id**         | `int`     | Identificador único do departamento (chave primária). |\n",
        "| **department** | `varchar` | Nome do departamento.                          |\n"
      ]
    },
    {
      "cell_type": "markdown",
      "metadata": {
        "id": "EKgU38ycjcnr"
      },
      "source": [
        "## Leitura e validação:"
      ]
    },
    {
      "cell_type": "code",
      "execution_count": 16,
      "metadata": {
        "id": "gVQ-jXE0jk92"
      },
      "outputs": [
        {
          "data": {
            "text/markdown": [
              "### 1 - Primeiras linhas do arquivo"
            ],
            "text/plain": [
              "<IPython.core.display.Markdown object>"
            ]
          },
          "metadata": {},
          "output_type": "display_data"
        },
        {
          "data": {
            "text/html": [
              "<div>\n",
              "<style scoped>\n",
              "    .dataframe tbody tr th:only-of-type {\n",
              "        vertical-align: middle;\n",
              "    }\n",
              "\n",
              "    .dataframe tbody tr th {\n",
              "        vertical-align: top;\n",
              "    }\n",
              "\n",
              "    .dataframe thead th {\n",
              "        text-align: right;\n",
              "    }\n",
              "</style>\n",
              "<table border=\"1\" class=\"dataframe\">\n",
              "  <thead>\n",
              "    <tr style=\"text-align: right;\">\n",
              "      <th></th>\n",
              "      <th>id</th>\n",
              "      <th>first_name</th>\n",
              "      <th>last_name</th>\n",
              "      <th>salary</th>\n",
              "      <th>department_id</th>\n",
              "    </tr>\n",
              "  </thead>\n",
              "  <tbody>\n",
              "    <tr>\n",
              "      <th>0</th>\n",
              "      <td>10301</td>\n",
              "      <td>Keith</td>\n",
              "      <td>Morgan</td>\n",
              "      <td>27056</td>\n",
              "      <td>2</td>\n",
              "    </tr>\n",
              "    <tr>\n",
              "      <th>1</th>\n",
              "      <td>10302</td>\n",
              "      <td>Tyler</td>\n",
              "      <td>Booth</td>\n",
              "      <td>32199</td>\n",
              "      <td>3</td>\n",
              "    </tr>\n",
              "    <tr>\n",
              "      <th>2</th>\n",
              "      <td>10303</td>\n",
              "      <td>Clifford</td>\n",
              "      <td>Nguyen</td>\n",
              "      <td>32165</td>\n",
              "      <td>2</td>\n",
              "    </tr>\n",
              "    <tr>\n",
              "      <th>3</th>\n",
              "      <td>10304</td>\n",
              "      <td>Mary</td>\n",
              "      <td>Jones</td>\n",
              "      <td>49488</td>\n",
              "      <td>3</td>\n",
              "    </tr>\n",
              "    <tr>\n",
              "      <th>4</th>\n",
              "      <td>10305</td>\n",
              "      <td>Melissa</td>\n",
              "      <td>Lucero</td>\n",
              "      <td>27024</td>\n",
              "      <td>3</td>\n",
              "    </tr>\n",
              "  </tbody>\n",
              "</table>\n",
              "</div>"
            ],
            "text/plain": [
              "      id first_name last_name  salary  department_id\n",
              "0  10301      Keith    Morgan   27056              2\n",
              "1  10302      Tyler     Booth   32199              3\n",
              "2  10303   Clifford    Nguyen   32165              2\n",
              "3  10304       Mary     Jones   49488              3\n",
              "4  10305    Melissa    Lucero   27024              3"
            ]
          },
          "metadata": {},
          "output_type": "display_data"
        },
        {
          "data": {
            "text/markdown": [
              "### 2 - Quantidade de linhas e colunas"
            ],
            "text/plain": [
              "<IPython.core.display.Markdown object>"
            ]
          },
          "metadata": {},
          "output_type": "display_data"
        },
        {
          "name": "stdout",
          "output_type": "stream",
          "text": [
            "(21, 5)\n"
          ]
        },
        {
          "data": {
            "text/markdown": [
              "### 3 - Tipos de dados"
            ],
            "text/plain": [
              "<IPython.core.display.Markdown object>"
            ]
          },
          "metadata": {},
          "output_type": "display_data"
        },
        {
          "name": "stdout",
          "output_type": "stream",
          "text": [
            "<class 'pandas.core.frame.DataFrame'>\n",
            "RangeIndex: 21 entries, 0 to 20\n",
            "Data columns (total 5 columns):\n",
            " #   Column         Non-Null Count  Dtype \n",
            "---  ------         --------------  ----- \n",
            " 0   id             21 non-null     int64 \n",
            " 1   first_name     21 non-null     object\n",
            " 2   last_name      21 non-null     object\n",
            " 3   salary         21 non-null     int64 \n",
            " 4   department_id  21 non-null     int64 \n",
            "dtypes: int64(3), object(2)\n",
            "memory usage: 968.0+ bytes\n",
            "None\n"
          ]
        },
        {
          "data": {
            "text/markdown": [
              "### 4 - Estatísticas descritivas"
            ],
            "text/plain": [
              "<IPython.core.display.Markdown object>"
            ]
          },
          "metadata": {},
          "output_type": "display_data"
        },
        {
          "data": {
            "text/html": [
              "<div>\n",
              "<style scoped>\n",
              "    .dataframe tbody tr th:only-of-type {\n",
              "        vertical-align: middle;\n",
              "    }\n",
              "\n",
              "    .dataframe tbody tr th {\n",
              "        vertical-align: top;\n",
              "    }\n",
              "\n",
              "    .dataframe thead th {\n",
              "        text-align: right;\n",
              "    }\n",
              "</style>\n",
              "<table border=\"1\" class=\"dataframe\">\n",
              "  <thead>\n",
              "    <tr style=\"text-align: right;\">\n",
              "      <th></th>\n",
              "      <th>id</th>\n",
              "      <th>first_name</th>\n",
              "      <th>last_name</th>\n",
              "      <th>salary</th>\n",
              "      <th>department_id</th>\n",
              "    </tr>\n",
              "  </thead>\n",
              "  <tbody>\n",
              "    <tr>\n",
              "      <th>count</th>\n",
              "      <td>21.000000</td>\n",
              "      <td>21</td>\n",
              "      <td>21</td>\n",
              "      <td>21.000000</td>\n",
              "      <td>21.000000</td>\n",
              "    </tr>\n",
              "    <tr>\n",
              "      <th>unique</th>\n",
              "      <td>NaN</td>\n",
              "      <td>20</td>\n",
              "      <td>21</td>\n",
              "      <td>NaN</td>\n",
              "      <td>NaN</td>\n",
              "    </tr>\n",
              "    <tr>\n",
              "      <th>top</th>\n",
              "      <td>NaN</td>\n",
              "      <td>Melissa</td>\n",
              "      <td>Cook</td>\n",
              "      <td>NaN</td>\n",
              "      <td>NaN</td>\n",
              "    </tr>\n",
              "    <tr>\n",
              "      <th>freq</th>\n",
              "      <td>NaN</td>\n",
              "      <td>2</td>\n",
              "      <td>1</td>\n",
              "      <td>NaN</td>\n",
              "      <td>NaN</td>\n",
              "    </tr>\n",
              "    <tr>\n",
              "      <th>mean</th>\n",
              "      <td>10311.000000</td>\n",
              "      <td>NaN</td>\n",
              "      <td>NaN</td>\n",
              "      <td>31032.857143</td>\n",
              "      <td>3.142857</td>\n",
              "    </tr>\n",
              "    <tr>\n",
              "      <th>std</th>\n",
              "      <td>6.204837</td>\n",
              "      <td>NaN</td>\n",
              "      <td>NaN</td>\n",
              "      <td>10680.328807</td>\n",
              "      <td>1.621287</td>\n",
              "    </tr>\n",
              "    <tr>\n",
              "      <th>min</th>\n",
              "      <td>10301.000000</td>\n",
              "      <td>NaN</td>\n",
              "      <td>NaN</td>\n",
              "      <td>12984.000000</td>\n",
              "      <td>1.000000</td>\n",
              "    </tr>\n",
              "    <tr>\n",
              "      <th>25%</th>\n",
              "      <td>10306.000000</td>\n",
              "      <td>NaN</td>\n",
              "      <td>NaN</td>\n",
              "      <td>22681.000000</td>\n",
              "      <td>2.000000</td>\n",
              "    </tr>\n",
              "    <tr>\n",
              "      <th>50%</th>\n",
              "      <td>10311.000000</td>\n",
              "      <td>NaN</td>\n",
              "      <td>NaN</td>\n",
              "      <td>31160.000000</td>\n",
              "      <td>3.000000</td>\n",
              "    </tr>\n",
              "    <tr>\n",
              "      <th>75%</th>\n",
              "      <td>10316.000000</td>\n",
              "      <td>NaN</td>\n",
              "      <td>NaN</td>\n",
              "      <td>37494.000000</td>\n",
              "      <td>4.000000</td>\n",
              "    </tr>\n",
              "    <tr>\n",
              "      <th>max</th>\n",
              "      <td>10321.000000</td>\n",
              "      <td>NaN</td>\n",
              "      <td>NaN</td>\n",
              "      <td>49488.000000</td>\n",
              "      <td>6.000000</td>\n",
              "    </tr>\n",
              "  </tbody>\n",
              "</table>\n",
              "</div>"
            ],
            "text/plain": [
              "                  id first_name last_name        salary  department_id\n",
              "count      21.000000         21        21     21.000000      21.000000\n",
              "unique           NaN         20        21           NaN            NaN\n",
              "top              NaN    Melissa      Cook           NaN            NaN\n",
              "freq             NaN          2         1           NaN            NaN\n",
              "mean    10311.000000        NaN       NaN  31032.857143       3.142857\n",
              "std         6.204837        NaN       NaN  10680.328807       1.621287\n",
              "min     10301.000000        NaN       NaN  12984.000000       1.000000\n",
              "25%     10306.000000        NaN       NaN  22681.000000       2.000000\n",
              "50%     10311.000000        NaN       NaN  31160.000000       3.000000\n",
              "75%     10316.000000        NaN       NaN  37494.000000       4.000000\n",
              "max     10321.000000        NaN       NaN  49488.000000       6.000000"
            ]
          },
          "metadata": {},
          "output_type": "display_data"
        },
        {
          "data": {
            "text/markdown": [
              "### 5 - Valores ausentes por coluna"
            ],
            "text/plain": [
              "<IPython.core.display.Markdown object>"
            ]
          },
          "metadata": {},
          "output_type": "display_data"
        },
        {
          "name": "stdout",
          "output_type": "stream",
          "text": [
            "id               0\n",
            "first_name       0\n",
            "last_name        0\n",
            "salary           0\n",
            "department_id    0\n",
            "dtype: int64\n"
          ]
        },
        {
          "data": {
            "text/markdown": [
              "### 6 - Valores únicos por coluna"
            ],
            "text/plain": [
              "<IPython.core.display.Markdown object>"
            ]
          },
          "metadata": {},
          "output_type": "display_data"
        },
        {
          "name": "stdout",
          "output_type": "stream",
          "text": [
            "id               21\n",
            "first_name       20\n",
            "last_name        21\n",
            "salary           21\n",
            "department_id     6\n",
            "dtype: int64\n"
          ]
        },
        {
          "data": {
            "text/markdown": [
              "### 7 - Valores duplicados"
            ],
            "text/plain": [
              "<IPython.core.display.Markdown object>"
            ]
          },
          "metadata": {},
          "output_type": "display_data"
        },
        {
          "name": "stdout",
          "output_type": "stream",
          "text": [
            "0\n"
          ]
        }
      ],
      "source": [
        "# Carregar o CSV\n",
        "df_db_employee = pd.read_csv('../Data/Raw/db_employee.csv', sep=\";\")\n",
        "\n",
        "valida_df(df_db_employee, 'db_employee')"
      ]
    },
    {
      "cell_type": "code",
      "execution_count": 17,
      "metadata": {
        "id": "ykJApCldjXmp"
      },
      "outputs": [
        {
          "data": {
            "text/markdown": [
              "### 1 - Primeiras linhas do arquivo"
            ],
            "text/plain": [
              "<IPython.core.display.Markdown object>"
            ]
          },
          "metadata": {},
          "output_type": "display_data"
        },
        {
          "data": {
            "text/html": [
              "<div>\n",
              "<style scoped>\n",
              "    .dataframe tbody tr th:only-of-type {\n",
              "        vertical-align: middle;\n",
              "    }\n",
              "\n",
              "    .dataframe tbody tr th {\n",
              "        vertical-align: top;\n",
              "    }\n",
              "\n",
              "    .dataframe thead th {\n",
              "        text-align: right;\n",
              "    }\n",
              "</style>\n",
              "<table border=\"1\" class=\"dataframe\">\n",
              "  <thead>\n",
              "    <tr style=\"text-align: right;\">\n",
              "      <th></th>\n",
              "      <th>id</th>\n",
              "      <th>department</th>\n",
              "    </tr>\n",
              "  </thead>\n",
              "  <tbody>\n",
              "    <tr>\n",
              "      <th>0</th>\n",
              "      <td>1</td>\n",
              "      <td>engineering</td>\n",
              "    </tr>\n",
              "    <tr>\n",
              "      <th>1</th>\n",
              "      <td>2</td>\n",
              "      <td>human resource</td>\n",
              "    </tr>\n",
              "    <tr>\n",
              "      <th>2</th>\n",
              "      <td>3</td>\n",
              "      <td>operation</td>\n",
              "    </tr>\n",
              "    <tr>\n",
              "      <th>3</th>\n",
              "      <td>4</td>\n",
              "      <td>marketing</td>\n",
              "    </tr>\n",
              "    <tr>\n",
              "      <th>4</th>\n",
              "      <td>5</td>\n",
              "      <td>sales</td>\n",
              "    </tr>\n",
              "  </tbody>\n",
              "</table>\n",
              "</div>"
            ],
            "text/plain": [
              "   id      department\n",
              "0   1     engineering\n",
              "1   2  human resource\n",
              "2   3       operation\n",
              "3   4       marketing\n",
              "4   5           sales"
            ]
          },
          "metadata": {},
          "output_type": "display_data"
        },
        {
          "data": {
            "text/markdown": [
              "### 2 - Quantidade de linhas e colunas"
            ],
            "text/plain": [
              "<IPython.core.display.Markdown object>"
            ]
          },
          "metadata": {},
          "output_type": "display_data"
        },
        {
          "name": "stdout",
          "output_type": "stream",
          "text": [
            "(6, 2)\n"
          ]
        },
        {
          "data": {
            "text/markdown": [
              "### 3 - Tipos de dados"
            ],
            "text/plain": [
              "<IPython.core.display.Markdown object>"
            ]
          },
          "metadata": {},
          "output_type": "display_data"
        },
        {
          "name": "stdout",
          "output_type": "stream",
          "text": [
            "<class 'pandas.core.frame.DataFrame'>\n",
            "RangeIndex: 6 entries, 0 to 5\n",
            "Data columns (total 2 columns):\n",
            " #   Column      Non-Null Count  Dtype \n",
            "---  ------      --------------  ----- \n",
            " 0   id          6 non-null      int64 \n",
            " 1   department  6 non-null      object\n",
            "dtypes: int64(1), object(1)\n",
            "memory usage: 224.0+ bytes\n",
            "None\n"
          ]
        },
        {
          "data": {
            "text/markdown": [
              "### 4 - Estatísticas descritivas"
            ],
            "text/plain": [
              "<IPython.core.display.Markdown object>"
            ]
          },
          "metadata": {},
          "output_type": "display_data"
        },
        {
          "data": {
            "text/html": [
              "<div>\n",
              "<style scoped>\n",
              "    .dataframe tbody tr th:only-of-type {\n",
              "        vertical-align: middle;\n",
              "    }\n",
              "\n",
              "    .dataframe tbody tr th {\n",
              "        vertical-align: top;\n",
              "    }\n",
              "\n",
              "    .dataframe thead th {\n",
              "        text-align: right;\n",
              "    }\n",
              "</style>\n",
              "<table border=\"1\" class=\"dataframe\">\n",
              "  <thead>\n",
              "    <tr style=\"text-align: right;\">\n",
              "      <th></th>\n",
              "      <th>id</th>\n",
              "      <th>department</th>\n",
              "    </tr>\n",
              "  </thead>\n",
              "  <tbody>\n",
              "    <tr>\n",
              "      <th>count</th>\n",
              "      <td>6.000000</td>\n",
              "      <td>6</td>\n",
              "    </tr>\n",
              "    <tr>\n",
              "      <th>unique</th>\n",
              "      <td>NaN</td>\n",
              "      <td>6</td>\n",
              "    </tr>\n",
              "    <tr>\n",
              "      <th>top</th>\n",
              "      <td>NaN</td>\n",
              "      <td>operation</td>\n",
              "    </tr>\n",
              "    <tr>\n",
              "      <th>freq</th>\n",
              "      <td>NaN</td>\n",
              "      <td>1</td>\n",
              "    </tr>\n",
              "    <tr>\n",
              "      <th>mean</th>\n",
              "      <td>3.500000</td>\n",
              "      <td>NaN</td>\n",
              "    </tr>\n",
              "    <tr>\n",
              "      <th>std</th>\n",
              "      <td>1.870829</td>\n",
              "      <td>NaN</td>\n",
              "    </tr>\n",
              "    <tr>\n",
              "      <th>min</th>\n",
              "      <td>1.000000</td>\n",
              "      <td>NaN</td>\n",
              "    </tr>\n",
              "    <tr>\n",
              "      <th>25%</th>\n",
              "      <td>2.250000</td>\n",
              "      <td>NaN</td>\n",
              "    </tr>\n",
              "    <tr>\n",
              "      <th>50%</th>\n",
              "      <td>3.500000</td>\n",
              "      <td>NaN</td>\n",
              "    </tr>\n",
              "    <tr>\n",
              "      <th>75%</th>\n",
              "      <td>4.750000</td>\n",
              "      <td>NaN</td>\n",
              "    </tr>\n",
              "    <tr>\n",
              "      <th>max</th>\n",
              "      <td>6.000000</td>\n",
              "      <td>NaN</td>\n",
              "    </tr>\n",
              "  </tbody>\n",
              "</table>\n",
              "</div>"
            ],
            "text/plain": [
              "              id department\n",
              "count   6.000000          6\n",
              "unique       NaN          6\n",
              "top          NaN  operation\n",
              "freq         NaN          1\n",
              "mean    3.500000        NaN\n",
              "std     1.870829        NaN\n",
              "min     1.000000        NaN\n",
              "25%     2.250000        NaN\n",
              "50%     3.500000        NaN\n",
              "75%     4.750000        NaN\n",
              "max     6.000000        NaN"
            ]
          },
          "metadata": {},
          "output_type": "display_data"
        },
        {
          "data": {
            "text/markdown": [
              "### 5 - Valores ausentes por coluna"
            ],
            "text/plain": [
              "<IPython.core.display.Markdown object>"
            ]
          },
          "metadata": {},
          "output_type": "display_data"
        },
        {
          "name": "stdout",
          "output_type": "stream",
          "text": [
            "id            0\n",
            "department    0\n",
            "dtype: int64\n"
          ]
        },
        {
          "data": {
            "text/markdown": [
              "### 6 - Valores únicos por coluna"
            ],
            "text/plain": [
              "<IPython.core.display.Markdown object>"
            ]
          },
          "metadata": {},
          "output_type": "display_data"
        },
        {
          "name": "stdout",
          "output_type": "stream",
          "text": [
            "id            6\n",
            "department    6\n",
            "dtype: int64\n"
          ]
        },
        {
          "data": {
            "text/markdown": [
              "### 7 - Valores duplicados"
            ],
            "text/plain": [
              "<IPython.core.display.Markdown object>"
            ]
          },
          "metadata": {},
          "output_type": "display_data"
        },
        {
          "name": "stdout",
          "output_type": "stream",
          "text": [
            "0\n"
          ]
        }
      ],
      "source": [
        "# Carregar o CSV\n",
        "df_db_dept = pd.read_csv('../Data/Raw/db_dept.csv', sep=\";\")\n",
        "\n",
        "valida_df(df_db_dept, 'db_dept')"
      ]
    },
    {
      "cell_type": "markdown",
      "metadata": {
        "id": "4DUGec_4qYPu"
      },
      "source": [
        "## Consulta:\n",
        "- SQL pensando para a melhoria de performance com execução do where uma única vez.\n",
        "- Aplicado ABS para trazer o valor absoluto.\n",
        "- Incluí o campo de Maior para dar mais detalhe ao resultado da análise."
      ]
    },
    {
      "cell_type": "code",
      "execution_count": 19,
      "metadata": {},
      "outputs": [
        {
          "data": {
            "text/html": [
              "<div>\n",
              "<style scoped>\n",
              "    .dataframe tbody tr th:only-of-type {\n",
              "        vertical-align: middle;\n",
              "    }\n",
              "\n",
              "    .dataframe tbody tr th {\n",
              "        vertical-align: top;\n",
              "    }\n",
              "\n",
              "    .dataframe thead th {\n",
              "        text-align: right;\n",
              "    }\n",
              "</style>\n",
              "<table border=\"1\" class=\"dataframe\">\n",
              "  <thead>\n",
              "    <tr style=\"text-align: right;\">\n",
              "      <th></th>\n",
              "      <th>SALARY_DIF</th>\n",
              "      <th>MAIOR</th>\n",
              "    </tr>\n",
              "  </thead>\n",
              "  <tbody>\n",
              "    <tr>\n",
              "      <th>0</th>\n",
              "      <td>13285</td>\n",
              "      <td>MKT</td>\n",
              "    </tr>\n",
              "  </tbody>\n",
              "</table>\n",
              "</div>"
            ],
            "text/plain": [
              "   SALARY_DIF MAIOR\n",
              "0       13285   MKT"
            ]
          },
          "metadata": {},
          "output_type": "display_data"
        }
      ],
      "source": [
        "query = \"\"\"\n",
        "WITH SALARIOS AS (\n",
        "SELECT CASE WHEN UPPER(B.DEPARTMENT) = 'MARKETING' THEN SALARY ELSE 0 END AS SALARY_MKT\n",
        "      ,CASE WHEN UPPER(B.DEPARTMENT) = 'ENGINEERING' THEN SALARY ELSE 0 END AS SALARY_ENG\n",
        "FROM df_db_employee A\n",
        "INNER JOIN df_db_dept B\n",
        "ON A.DEPARTMENT_ID = B.ID\n",
        "WHERE 1 = 1\n",
        "    AND UPPER(B.DEPARTMENT) IN ('MARKETING', 'ENGINEERING')\n",
        ")\n",
        "SELECT\n",
        "    ABS(MAX(SALARY_MKT) - MAX(SALARY_ENG)) AS SALARY_DIF\n",
        "    ,CASE WHEN MAX(SALARY_MKT) > MAX(SALARY_ENG) THEN 'MKT'\n",
        "          WHEN MAX(SALARY_MKT) < MAX(SALARY_ENG) THEN 'ENG'\n",
        "          ELSE 'N/A' END AS MAIOR\n",
        "\n",
        "FROM\n",
        "    SALARIOS\n",
        "\"\"\"\n",
        "\n",
        "# Executar o SQL\n",
        "result = duckdb.query(query).to_df()\n",
        "\n",
        "# Mostrar o resultado\n",
        "display(result)"
      ]
    },
    {
      "cell_type": "markdown",
      "metadata": {},
      "source": [
        "## Resultado: \n",
        "\n",
        "A diferença de salários máximos entre os departamentos de Marketing e Engenharia é de  $13.285,00, sendo Marketing o departamento com maior valor.\n",
        "\n",
        "---"
      ]
    },
    {
      "cell_type": "markdown",
      "metadata": {},
      "source": [
        "## **Case 3**\n",
        "Objetivo: **Encontre os detalhes de cada cliente**, independentemente de **o cliente ter feito um pedido**.  \n",
        "**Exiba o primeiro nome**, o **sobrenome** e a **cidade do cliente** junto com os **detalhes do pedido**.  \n",
        "**Ordene os registros** com base no **primeiro nome do cliente** e nos **detalhes do pedido** em **ordem ascendente**.\n",
        "\n",
        "**Tabelas:** customers e orders.\n",
        "\n",
        "Tabela **customers** - Armazena informações sobre os clientes. \n",
        "\n",
        "**Dicionário de dados:**\n",
        "\n",
        "| **Campo**        | **Tipo**      | **Descrição**                                             |\n",
        "|------------------|---------------|---------------------------------------------------------|\n",
        "| **id**           | `int`         | Identificador único do cliente (chave primária).        |\n",
        "| **first_name**   | `varchar`     | Primeiro nome do cliente.                               |\n",
        "| **last_name**    | `varchar`     | Sobrenome do cliente.                                   |\n",
        "| **city**         | `varchar`     | Cidade onde o cliente reside.                          |\n",
        "| **address**      | `varchar`     | Endereço completo do cliente.                          |\n",
        "| **phone_number** | `varchar`     | Número de telefone do cliente.                         |\n",
        "\n",
        "\n",
        "Tabela **orders** - Armazenar informações sobre os pedidos dos clientes.\n",
        "\n",
        "**Dicionário de dados:**\n",
        "\n",
        "| **Campo**           | **Tipo**      | **Descrição**                                               |\n",
        "|---------------------|---------------|-----------------------------------------------------------|\n",
        "| **id**              | `int`         | Identificador único do pedido (chave primária).           |\n",
        "| **cust_id**         | `int`         | Identificador do cliente que realizou o pedido (chave estrangeira). |\n",
        "| **order_date**      | `datetime`    | Data em que o pedido foi realizado.                       |\n",
        "| **order_details**   | `varchar`     | Detalhes sobre os itens ou serviços incluídos no pedido.  |\n",
        "| **total_order_cost**| `int`         | Custo total do pedido.                                    |"
      ]
    },
    {
      "cell_type": "markdown",
      "metadata": {},
      "source": [
        "## Leitura e validação:"
      ]
    },
    {
      "cell_type": "code",
      "execution_count": 20,
      "metadata": {},
      "outputs": [
        {
          "data": {
            "text/markdown": [
              "### 1 - Primeiras linhas do arquivo"
            ],
            "text/plain": [
              "<IPython.core.display.Markdown object>"
            ]
          },
          "metadata": {},
          "output_type": "display_data"
        },
        {
          "data": {
            "text/html": [
              "<div>\n",
              "<style scoped>\n",
              "    .dataframe tbody tr th:only-of-type {\n",
              "        vertical-align: middle;\n",
              "    }\n",
              "\n",
              "    .dataframe tbody tr th {\n",
              "        vertical-align: top;\n",
              "    }\n",
              "\n",
              "    .dataframe thead th {\n",
              "        text-align: right;\n",
              "    }\n",
              "</style>\n",
              "<table border=\"1\" class=\"dataframe\">\n",
              "  <thead>\n",
              "    <tr style=\"text-align: right;\">\n",
              "      <th></th>\n",
              "      <th>id</th>\n",
              "      <th>first_name</th>\n",
              "      <th>last_name</th>\n",
              "      <th>city</th>\n",
              "      <th>address</th>\n",
              "      <th>phone_number</th>\n",
              "    </tr>\n",
              "  </thead>\n",
              "  <tbody>\n",
              "    <tr>\n",
              "      <th>0</th>\n",
              "      <td>8</td>\n",
              "      <td>John</td>\n",
              "      <td>Joseph</td>\n",
              "      <td>San Francisco</td>\n",
              "      <td>NaN</td>\n",
              "      <td>928-386-8164</td>\n",
              "    </tr>\n",
              "    <tr>\n",
              "      <th>1</th>\n",
              "      <td>7</td>\n",
              "      <td>Jill</td>\n",
              "      <td>Michael</td>\n",
              "      <td>Austin</td>\n",
              "      <td>NaN</td>\n",
              "      <td>813-297-0692</td>\n",
              "    </tr>\n",
              "    <tr>\n",
              "      <th>2</th>\n",
              "      <td>4</td>\n",
              "      <td>William</td>\n",
              "      <td>Daniel</td>\n",
              "      <td>Denver</td>\n",
              "      <td>NaN</td>\n",
              "      <td>813-368-1200</td>\n",
              "    </tr>\n",
              "    <tr>\n",
              "      <th>3</th>\n",
              "      <td>5</td>\n",
              "      <td>Henry</td>\n",
              "      <td>Jackson</td>\n",
              "      <td>Miami</td>\n",
              "      <td>NaN</td>\n",
              "      <td>808-601-7513</td>\n",
              "    </tr>\n",
              "    <tr>\n",
              "      <th>4</th>\n",
              "      <td>13</td>\n",
              "      <td>Emma</td>\n",
              "      <td>Isaac</td>\n",
              "      <td>Miami</td>\n",
              "      <td>NaN</td>\n",
              "      <td>808-690-5201</td>\n",
              "    </tr>\n",
              "  </tbody>\n",
              "</table>\n",
              "</div>"
            ],
            "text/plain": [
              "   id first_name last_name           city address  phone_number\n",
              "0   8       John    Joseph  San Francisco     NaN  928-386-8164\n",
              "1   7       Jill   Michael         Austin     NaN  813-297-0692\n",
              "2   4    William    Daniel         Denver     NaN  813-368-1200\n",
              "3   5      Henry   Jackson          Miami     NaN  808-601-7513\n",
              "4  13       Emma     Isaac          Miami     NaN  808-690-5201"
            ]
          },
          "metadata": {},
          "output_type": "display_data"
        },
        {
          "data": {
            "text/markdown": [
              "### 2 - Quantidade de linhas e colunas"
            ],
            "text/plain": [
              "<IPython.core.display.Markdown object>"
            ]
          },
          "metadata": {},
          "output_type": "display_data"
        },
        {
          "name": "stdout",
          "output_type": "stream",
          "text": [
            "(14, 6)\n"
          ]
        },
        {
          "data": {
            "text/markdown": [
              "### 3 - Tipos de dados"
            ],
            "text/plain": [
              "<IPython.core.display.Markdown object>"
            ]
          },
          "metadata": {},
          "output_type": "display_data"
        },
        {
          "name": "stdout",
          "output_type": "stream",
          "text": [
            "<class 'pandas.core.frame.DataFrame'>\n",
            "RangeIndex: 14 entries, 0 to 13\n",
            "Data columns (total 6 columns):\n",
            " #   Column        Non-Null Count  Dtype \n",
            "---  ------        --------------  ----- \n",
            " 0   id            14 non-null     int64 \n",
            " 1   first_name    14 non-null     object\n",
            " 2   last_name     14 non-null     object\n",
            " 3   city          14 non-null     object\n",
            " 4   address       7 non-null      object\n",
            " 5   phone_number  14 non-null     object\n",
            "dtypes: int64(1), object(5)\n",
            "memory usage: 800.0+ bytes\n",
            "None\n"
          ]
        },
        {
          "data": {
            "text/markdown": [
              "### 4 - Estatísticas descritivas"
            ],
            "text/plain": [
              "<IPython.core.display.Markdown object>"
            ]
          },
          "metadata": {},
          "output_type": "display_data"
        },
        {
          "data": {
            "text/html": [
              "<div>\n",
              "<style scoped>\n",
              "    .dataframe tbody tr th:only-of-type {\n",
              "        vertical-align: middle;\n",
              "    }\n",
              "\n",
              "    .dataframe tbody tr th {\n",
              "        vertical-align: top;\n",
              "    }\n",
              "\n",
              "    .dataframe thead th {\n",
              "        text-align: right;\n",
              "    }\n",
              "</style>\n",
              "<table border=\"1\" class=\"dataframe\">\n",
              "  <thead>\n",
              "    <tr style=\"text-align: right;\">\n",
              "      <th></th>\n",
              "      <th>id</th>\n",
              "      <th>first_name</th>\n",
              "      <th>last_name</th>\n",
              "      <th>city</th>\n",
              "      <th>address</th>\n",
              "      <th>phone_number</th>\n",
              "    </tr>\n",
              "  </thead>\n",
              "  <tbody>\n",
              "    <tr>\n",
              "      <th>count</th>\n",
              "      <td>14.000000</td>\n",
              "      <td>14</td>\n",
              "      <td>14</td>\n",
              "      <td>14</td>\n",
              "      <td>7</td>\n",
              "      <td>14</td>\n",
              "    </tr>\n",
              "    <tr>\n",
              "      <th>unique</th>\n",
              "      <td>NaN</td>\n",
              "      <td>14</td>\n",
              "      <td>13</td>\n",
              "      <td>6</td>\n",
              "      <td>7</td>\n",
              "      <td>13</td>\n",
              "    </tr>\n",
              "    <tr>\n",
              "      <th>top</th>\n",
              "      <td>NaN</td>\n",
              "      <td>Liam</td>\n",
              "      <td>Joseph</td>\n",
              "      <td>Miami</td>\n",
              "      <td>4470 McKinley Avenue</td>\n",
              "      <td>813-368-1200</td>\n",
              "    </tr>\n",
              "    <tr>\n",
              "      <th>freq</th>\n",
              "      <td>NaN</td>\n",
              "      <td>1</td>\n",
              "      <td>2</td>\n",
              "      <td>4</td>\n",
              "      <td>1</td>\n",
              "      <td>2</td>\n",
              "    </tr>\n",
              "    <tr>\n",
              "      <th>mean</th>\n",
              "      <td>7.785714</td>\n",
              "      <td>NaN</td>\n",
              "      <td>NaN</td>\n",
              "      <td>NaN</td>\n",
              "      <td>NaN</td>\n",
              "      <td>NaN</td>\n",
              "    </tr>\n",
              "    <tr>\n",
              "      <th>std</th>\n",
              "      <td>4.560340</td>\n",
              "      <td>NaN</td>\n",
              "      <td>NaN</td>\n",
              "      <td>NaN</td>\n",
              "      <td>NaN</td>\n",
              "      <td>NaN</td>\n",
              "    </tr>\n",
              "    <tr>\n",
              "      <th>min</th>\n",
              "      <td>1.000000</td>\n",
              "      <td>NaN</td>\n",
              "      <td>NaN</td>\n",
              "      <td>NaN</td>\n",
              "      <td>NaN</td>\n",
              "      <td>NaN</td>\n",
              "    </tr>\n",
              "    <tr>\n",
              "      <th>25%</th>\n",
              "      <td>4.250000</td>\n",
              "      <td>NaN</td>\n",
              "      <td>NaN</td>\n",
              "      <td>NaN</td>\n",
              "      <td>NaN</td>\n",
              "      <td>NaN</td>\n",
              "    </tr>\n",
              "    <tr>\n",
              "      <th>50%</th>\n",
              "      <td>7.500000</td>\n",
              "      <td>NaN</td>\n",
              "      <td>NaN</td>\n",
              "      <td>NaN</td>\n",
              "      <td>NaN</td>\n",
              "      <td>NaN</td>\n",
              "    </tr>\n",
              "    <tr>\n",
              "      <th>75%</th>\n",
              "      <td>11.500000</td>\n",
              "      <td>NaN</td>\n",
              "      <td>NaN</td>\n",
              "      <td>NaN</td>\n",
              "      <td>NaN</td>\n",
              "      <td>NaN</td>\n",
              "    </tr>\n",
              "    <tr>\n",
              "      <th>max</th>\n",
              "      <td>15.000000</td>\n",
              "      <td>NaN</td>\n",
              "      <td>NaN</td>\n",
              "      <td>NaN</td>\n",
              "      <td>NaN</td>\n",
              "      <td>NaN</td>\n",
              "    </tr>\n",
              "  </tbody>\n",
              "</table>\n",
              "</div>"
            ],
            "text/plain": [
              "               id first_name last_name   city               address  \\\n",
              "count   14.000000         14        14     14                     7   \n",
              "unique        NaN         14        13      6                     7   \n",
              "top           NaN       Liam    Joseph  Miami  4470 McKinley Avenue   \n",
              "freq          NaN          1         2      4                     1   \n",
              "mean     7.785714        NaN       NaN    NaN                   NaN   \n",
              "std      4.560340        NaN       NaN    NaN                   NaN   \n",
              "min      1.000000        NaN       NaN    NaN                   NaN   \n",
              "25%      4.250000        NaN       NaN    NaN                   NaN   \n",
              "50%      7.500000        NaN       NaN    NaN                   NaN   \n",
              "75%     11.500000        NaN       NaN    NaN                   NaN   \n",
              "max     15.000000        NaN       NaN    NaN                   NaN   \n",
              "\n",
              "        phone_number  \n",
              "count             14  \n",
              "unique            13  \n",
              "top     813-368-1200  \n",
              "freq               2  \n",
              "mean             NaN  \n",
              "std              NaN  \n",
              "min              NaN  \n",
              "25%              NaN  \n",
              "50%              NaN  \n",
              "75%              NaN  \n",
              "max              NaN  "
            ]
          },
          "metadata": {},
          "output_type": "display_data"
        },
        {
          "data": {
            "text/markdown": [
              "### 5 - Valores ausentes por coluna"
            ],
            "text/plain": [
              "<IPython.core.display.Markdown object>"
            ]
          },
          "metadata": {},
          "output_type": "display_data"
        },
        {
          "name": "stdout",
          "output_type": "stream",
          "text": [
            "id              0\n",
            "first_name      0\n",
            "last_name       0\n",
            "city            0\n",
            "address         7\n",
            "phone_number    0\n",
            "dtype: int64\n"
          ]
        },
        {
          "data": {
            "text/markdown": [
              "### 6 - Valores únicos por coluna"
            ],
            "text/plain": [
              "<IPython.core.display.Markdown object>"
            ]
          },
          "metadata": {},
          "output_type": "display_data"
        },
        {
          "name": "stdout",
          "output_type": "stream",
          "text": [
            "id              14\n",
            "first_name      14\n",
            "last_name       13\n",
            "city             6\n",
            "address          7\n",
            "phone_number    13\n",
            "dtype: int64\n"
          ]
        },
        {
          "data": {
            "text/markdown": [
              "### 7 - Valores duplicados"
            ],
            "text/plain": [
              "<IPython.core.display.Markdown object>"
            ]
          },
          "metadata": {},
          "output_type": "display_data"
        },
        {
          "name": "stdout",
          "output_type": "stream",
          "text": [
            "0\n"
          ]
        }
      ],
      "source": [
        "# Carregar o CSV\n",
        "df_customers = pd.read_csv('../Data/Raw/customers.csv', sep=\";\")\n",
        "valida_df(df_customers, 'customers')"
      ]
    },
    {
      "cell_type": "code",
      "execution_count": 22,
      "metadata": {},
      "outputs": [
        {
          "data": {
            "text/markdown": [
              "### 1 - Primeiras linhas do arquivo"
            ],
            "text/plain": [
              "<IPython.core.display.Markdown object>"
            ]
          },
          "metadata": {},
          "output_type": "display_data"
        },
        {
          "data": {
            "text/html": [
              "<div>\n",
              "<style scoped>\n",
              "    .dataframe tbody tr th:only-of-type {\n",
              "        vertical-align: middle;\n",
              "    }\n",
              "\n",
              "    .dataframe tbody tr th {\n",
              "        vertical-align: top;\n",
              "    }\n",
              "\n",
              "    .dataframe thead th {\n",
              "        text-align: right;\n",
              "    }\n",
              "</style>\n",
              "<table border=\"1\" class=\"dataframe\">\n",
              "  <thead>\n",
              "    <tr style=\"text-align: right;\">\n",
              "      <th></th>\n",
              "      <th>id</th>\n",
              "      <th>cust_id</th>\n",
              "      <th>order_date</th>\n",
              "      <th>order_details</th>\n",
              "      <th>total_order_cost</th>\n",
              "    </tr>\n",
              "  </thead>\n",
              "  <tbody>\n",
              "    <tr>\n",
              "      <th>0</th>\n",
              "      <td>1</td>\n",
              "      <td>3</td>\n",
              "      <td>04/03/2019</td>\n",
              "      <td>Coat</td>\n",
              "      <td>100</td>\n",
              "    </tr>\n",
              "    <tr>\n",
              "      <th>1</th>\n",
              "      <td>2</td>\n",
              "      <td>3</td>\n",
              "      <td>01/03/2019</td>\n",
              "      <td>Shoes</td>\n",
              "      <td>80</td>\n",
              "    </tr>\n",
              "    <tr>\n",
              "      <th>2</th>\n",
              "      <td>3</td>\n",
              "      <td>3</td>\n",
              "      <td>07/03/2019</td>\n",
              "      <td>Skirt</td>\n",
              "      <td>30</td>\n",
              "    </tr>\n",
              "    <tr>\n",
              "      <th>3</th>\n",
              "      <td>4</td>\n",
              "      <td>7</td>\n",
              "      <td>01/02/2019</td>\n",
              "      <td>Coat</td>\n",
              "      <td>25</td>\n",
              "    </tr>\n",
              "    <tr>\n",
              "      <th>4</th>\n",
              "      <td>5</td>\n",
              "      <td>7</td>\n",
              "      <td>10/03/2019</td>\n",
              "      <td>Shoes</td>\n",
              "      <td>80</td>\n",
              "    </tr>\n",
              "  </tbody>\n",
              "</table>\n",
              "</div>"
            ],
            "text/plain": [
              "   id  cust_id  order_date order_details  total_order_cost\n",
              "0   1        3  04/03/2019          Coat               100\n",
              "1   2        3  01/03/2019         Shoes                80\n",
              "2   3        3  07/03/2019         Skirt                30\n",
              "3   4        7  01/02/2019          Coat                25\n",
              "4   5        7  10/03/2019         Shoes                80"
            ]
          },
          "metadata": {},
          "output_type": "display_data"
        },
        {
          "data": {
            "text/markdown": [
              "### 2 - Quantidade de linhas e colunas"
            ],
            "text/plain": [
              "<IPython.core.display.Markdown object>"
            ]
          },
          "metadata": {},
          "output_type": "display_data"
        },
        {
          "name": "stdout",
          "output_type": "stream",
          "text": [
            "(23, 5)\n"
          ]
        },
        {
          "data": {
            "text/markdown": [
              "### 3 - Tipos de dados"
            ],
            "text/plain": [
              "<IPython.core.display.Markdown object>"
            ]
          },
          "metadata": {},
          "output_type": "display_data"
        },
        {
          "name": "stdout",
          "output_type": "stream",
          "text": [
            "<class 'pandas.core.frame.DataFrame'>\n",
            "RangeIndex: 23 entries, 0 to 22\n",
            "Data columns (total 5 columns):\n",
            " #   Column            Non-Null Count  Dtype \n",
            "---  ------            --------------  ----- \n",
            " 0   id                23 non-null     int64 \n",
            " 1   cust_id           23 non-null     int64 \n",
            " 2   order_date        23 non-null     object\n",
            " 3   order_details     23 non-null     object\n",
            " 4   total_order_cost  23 non-null     int64 \n",
            "dtypes: int64(3), object(2)\n",
            "memory usage: 1.0+ KB\n",
            "None\n"
          ]
        },
        {
          "data": {
            "text/markdown": [
              "### 4 - Estatísticas descritivas"
            ],
            "text/plain": [
              "<IPython.core.display.Markdown object>"
            ]
          },
          "metadata": {},
          "output_type": "display_data"
        },
        {
          "data": {
            "text/html": [
              "<div>\n",
              "<style scoped>\n",
              "    .dataframe tbody tr th:only-of-type {\n",
              "        vertical-align: middle;\n",
              "    }\n",
              "\n",
              "    .dataframe tbody tr th {\n",
              "        vertical-align: top;\n",
              "    }\n",
              "\n",
              "    .dataframe thead th {\n",
              "        text-align: right;\n",
              "    }\n",
              "</style>\n",
              "<table border=\"1\" class=\"dataframe\">\n",
              "  <thead>\n",
              "    <tr style=\"text-align: right;\">\n",
              "      <th></th>\n",
              "      <th>id</th>\n",
              "      <th>cust_id</th>\n",
              "      <th>order_date</th>\n",
              "      <th>order_details</th>\n",
              "      <th>total_order_cost</th>\n",
              "    </tr>\n",
              "  </thead>\n",
              "  <tbody>\n",
              "    <tr>\n",
              "      <th>count</th>\n",
              "      <td>23.00000</td>\n",
              "      <td>23.000000</td>\n",
              "      <td>23</td>\n",
              "      <td>23</td>\n",
              "      <td>23.000000</td>\n",
              "    </tr>\n",
              "    <tr>\n",
              "      <th>unique</th>\n",
              "      <td>NaN</td>\n",
              "      <td>NaN</td>\n",
              "      <td>13</td>\n",
              "      <td>9</td>\n",
              "      <td>NaN</td>\n",
              "    </tr>\n",
              "    <tr>\n",
              "      <th>top</th>\n",
              "      <td>NaN</td>\n",
              "      <td>NaN</td>\n",
              "      <td>01/02/2019</td>\n",
              "      <td>Shirts</td>\n",
              "      <td>NaN</td>\n",
              "    </tr>\n",
              "    <tr>\n",
              "      <th>freq</th>\n",
              "      <td>NaN</td>\n",
              "      <td>NaN</td>\n",
              "      <td>4</td>\n",
              "      <td>5</td>\n",
              "      <td>NaN</td>\n",
              "    </tr>\n",
              "    <tr>\n",
              "      <th>mean</th>\n",
              "      <td>12.00000</td>\n",
              "      <td>9.043478</td>\n",
              "      <td>NaN</td>\n",
              "      <td>NaN</td>\n",
              "      <td>70.000000</td>\n",
              "    </tr>\n",
              "    <tr>\n",
              "      <th>std</th>\n",
              "      <td>6.78233</td>\n",
              "      <td>4.828686</td>\n",
              "      <td>NaN</td>\n",
              "      <td>NaN</td>\n",
              "      <td>43.874822</td>\n",
              "    </tr>\n",
              "    <tr>\n",
              "      <th>min</th>\n",
              "      <td>1.00000</td>\n",
              "      <td>3.000000</td>\n",
              "      <td>NaN</td>\n",
              "      <td>NaN</td>\n",
              "      <td>20.000000</td>\n",
              "    </tr>\n",
              "    <tr>\n",
              "      <th>25%</th>\n",
              "      <td>6.50000</td>\n",
              "      <td>4.500000</td>\n",
              "      <td>NaN</td>\n",
              "      <td>NaN</td>\n",
              "      <td>40.000000</td>\n",
              "    </tr>\n",
              "    <tr>\n",
              "      <th>50%</th>\n",
              "      <td>12.00000</td>\n",
              "      <td>7.000000</td>\n",
              "      <td>NaN</td>\n",
              "      <td>NaN</td>\n",
              "      <td>60.000000</td>\n",
              "    </tr>\n",
              "    <tr>\n",
              "      <th>75%</th>\n",
              "      <td>17.50000</td>\n",
              "      <td>15.000000</td>\n",
              "      <td>NaN</td>\n",
              "      <td>NaN</td>\n",
              "      <td>80.000000</td>\n",
              "    </tr>\n",
              "    <tr>\n",
              "      <th>max</th>\n",
              "      <td>23.00000</td>\n",
              "      <td>15.000000</td>\n",
              "      <td>NaN</td>\n",
              "      <td>NaN</td>\n",
              "      <td>200.000000</td>\n",
              "    </tr>\n",
              "  </tbody>\n",
              "</table>\n",
              "</div>"
            ],
            "text/plain": [
              "              id    cust_id  order_date order_details  total_order_cost\n",
              "count   23.00000  23.000000          23            23         23.000000\n",
              "unique       NaN        NaN          13             9               NaN\n",
              "top          NaN        NaN  01/02/2019        Shirts               NaN\n",
              "freq         NaN        NaN           4             5               NaN\n",
              "mean    12.00000   9.043478         NaN           NaN         70.000000\n",
              "std      6.78233   4.828686         NaN           NaN         43.874822\n",
              "min      1.00000   3.000000         NaN           NaN         20.000000\n",
              "25%      6.50000   4.500000         NaN           NaN         40.000000\n",
              "50%     12.00000   7.000000         NaN           NaN         60.000000\n",
              "75%     17.50000  15.000000         NaN           NaN         80.000000\n",
              "max     23.00000  15.000000         NaN           NaN        200.000000"
            ]
          },
          "metadata": {},
          "output_type": "display_data"
        },
        {
          "data": {
            "text/markdown": [
              "### 5 - Valores ausentes por coluna"
            ],
            "text/plain": [
              "<IPython.core.display.Markdown object>"
            ]
          },
          "metadata": {},
          "output_type": "display_data"
        },
        {
          "name": "stdout",
          "output_type": "stream",
          "text": [
            "id                  0\n",
            "cust_id             0\n",
            "order_date          0\n",
            "order_details       0\n",
            "total_order_cost    0\n",
            "dtype: int64\n"
          ]
        },
        {
          "data": {
            "text/markdown": [
              "### 6 - Valores únicos por coluna"
            ],
            "text/plain": [
              "<IPython.core.display.Markdown object>"
            ]
          },
          "metadata": {},
          "output_type": "display_data"
        },
        {
          "name": "stdout",
          "output_type": "stream",
          "text": [
            "id                  23\n",
            "cust_id              6\n",
            "order_date          13\n",
            "order_details        9\n",
            "total_order_cost    10\n",
            "dtype: int64\n"
          ]
        },
        {
          "data": {
            "text/markdown": [
              "### 7 - Valores duplicados"
            ],
            "text/plain": [
              "<IPython.core.display.Markdown object>"
            ]
          },
          "metadata": {},
          "output_type": "display_data"
        },
        {
          "name": "stdout",
          "output_type": "stream",
          "text": [
            "0\n"
          ]
        }
      ],
      "source": [
        "# Carregar o CSV\n",
        "df_orders = pd.read_csv('../Data/Raw/orders.csv', sep=\";\")\n",
        "valida_df(df_orders, 'orders')"
      ]
    },
    {
      "cell_type": "markdown",
      "metadata": {},
      "source": [
        "## Consulta:\n",
        "- Garanto no resultado todos os registros da tabela de clientes, mesmo que não tenha feito compra (left join).\n",
        "- Considero a data como o melhor detalhe do pedido para ordenação e o select por padrão já é ascendente. "
      ]
    },
    {
      "cell_type": "code",
      "execution_count": 23,
      "metadata": {},
      "outputs": [
        {
          "data": {
            "text/html": [
              "<div>\n",
              "<style scoped>\n",
              "    .dataframe tbody tr th:only-of-type {\n",
              "        vertical-align: middle;\n",
              "    }\n",
              "\n",
              "    .dataframe tbody tr th {\n",
              "        vertical-align: top;\n",
              "    }\n",
              "\n",
              "    .dataframe thead th {\n",
              "        text-align: right;\n",
              "    }\n",
              "</style>\n",
              "<table border=\"1\" class=\"dataframe\">\n",
              "  <thead>\n",
              "    <tr style=\"text-align: right;\">\n",
              "      <th></th>\n",
              "      <th>id</th>\n",
              "      <th>first_name</th>\n",
              "      <th>last_name</th>\n",
              "      <th>city</th>\n",
              "      <th>order_date</th>\n",
              "      <th>order_details</th>\n",
              "      <th>total_order_cost</th>\n",
              "    </tr>\n",
              "  </thead>\n",
              "  <tbody>\n",
              "    <tr>\n",
              "      <th>0</th>\n",
              "      <td>13</td>\n",
              "      <td>Emma</td>\n",
              "      <td>Isaac</td>\n",
              "      <td>Miami</td>\n",
              "      <td>None</td>\n",
              "      <td>None</td>\n",
              "      <td>NaN</td>\n",
              "    </tr>\n",
              "    <tr>\n",
              "      <th>1</th>\n",
              "      <td>12</td>\n",
              "      <td>Eva</td>\n",
              "      <td>Lucas</td>\n",
              "      <td>Arizona</td>\n",
              "      <td>11/01/2019</td>\n",
              "      <td>Shirts</td>\n",
              "      <td>60.0</td>\n",
              "    </tr>\n",
              "    <tr>\n",
              "      <th>2</th>\n",
              "      <td>12</td>\n",
              "      <td>Eva</td>\n",
              "      <td>Lucas</td>\n",
              "      <td>Arizona</td>\n",
              "      <td>11/01/2019</td>\n",
              "      <td>Coat</td>\n",
              "      <td>125.0</td>\n",
              "    </tr>\n",
              "    <tr>\n",
              "      <th>3</th>\n",
              "      <td>12</td>\n",
              "      <td>Eva</td>\n",
              "      <td>Lucas</td>\n",
              "      <td>Arizona</td>\n",
              "      <td>11/03/2019</td>\n",
              "      <td>Slipper</td>\n",
              "      <td>20.0</td>\n",
              "    </tr>\n",
              "    <tr>\n",
              "      <th>4</th>\n",
              "      <td>3</td>\n",
              "      <td>Farida</td>\n",
              "      <td>Joseph</td>\n",
              "      <td>San Francisco</td>\n",
              "      <td>01/03/2019</td>\n",
              "      <td>Shoes</td>\n",
              "      <td>80.0</td>\n",
              "    </tr>\n",
              "    <tr>\n",
              "      <th>5</th>\n",
              "      <td>3</td>\n",
              "      <td>Farida</td>\n",
              "      <td>Joseph</td>\n",
              "      <td>San Francisco</td>\n",
              "      <td>04/03/2019</td>\n",
              "      <td>Coat</td>\n",
              "      <td>100.0</td>\n",
              "    </tr>\n",
              "    <tr>\n",
              "      <th>6</th>\n",
              "      <td>3</td>\n",
              "      <td>Farida</td>\n",
              "      <td>Joseph</td>\n",
              "      <td>San Francisco</td>\n",
              "      <td>07/03/2019</td>\n",
              "      <td>Skirt</td>\n",
              "      <td>30.0</td>\n",
              "    </tr>\n",
              "    <tr>\n",
              "      <th>7</th>\n",
              "      <td>3</td>\n",
              "      <td>Farida</td>\n",
              "      <td>Joseph</td>\n",
              "      <td>San Francisco</td>\n",
              "      <td>19/04/2019</td>\n",
              "      <td>Shirts</td>\n",
              "      <td>50.0</td>\n",
              "    </tr>\n",
              "    <tr>\n",
              "      <th>8</th>\n",
              "      <td>5</td>\n",
              "      <td>Henry</td>\n",
              "      <td>Jackson</td>\n",
              "      <td>Miami</td>\n",
              "      <td>01/02/2019</td>\n",
              "      <td>Shoes</td>\n",
              "      <td>80.0</td>\n",
              "    </tr>\n",
              "    <tr>\n",
              "      <th>9</th>\n",
              "      <td>6</td>\n",
              "      <td>Jack</td>\n",
              "      <td>Aiden</td>\n",
              "      <td>Arizona</td>\n",
              "      <td>None</td>\n",
              "      <td>None</td>\n",
              "      <td>NaN</td>\n",
              "    </tr>\n",
              "    <tr>\n",
              "      <th>10</th>\n",
              "      <td>7</td>\n",
              "      <td>Jill</td>\n",
              "      <td>Michael</td>\n",
              "      <td>Austin</td>\n",
              "      <td>01/02/2019</td>\n",
              "      <td>Coat</td>\n",
              "      <td>25.0</td>\n",
              "    </tr>\n",
              "    <tr>\n",
              "      <th>11</th>\n",
              "      <td>7</td>\n",
              "      <td>Jill</td>\n",
              "      <td>Michael</td>\n",
              "      <td>Austin</td>\n",
              "      <td>01/04/2019</td>\n",
              "      <td>Suit</td>\n",
              "      <td>50.0</td>\n",
              "    </tr>\n",
              "    <tr>\n",
              "      <th>12</th>\n",
              "      <td>7</td>\n",
              "      <td>Jill</td>\n",
              "      <td>Michael</td>\n",
              "      <td>Austin</td>\n",
              "      <td>02/04/2019</td>\n",
              "      <td>Skirt</td>\n",
              "      <td>30.0</td>\n",
              "    </tr>\n",
              "    <tr>\n",
              "      <th>13</th>\n",
              "      <td>7</td>\n",
              "      <td>Jill</td>\n",
              "      <td>Michael</td>\n",
              "      <td>Austin</td>\n",
              "      <td>03/04/2019</td>\n",
              "      <td>Dresses</td>\n",
              "      <td>50.0</td>\n",
              "    </tr>\n",
              "    <tr>\n",
              "      <th>14</th>\n",
              "      <td>7</td>\n",
              "      <td>Jill</td>\n",
              "      <td>Michael</td>\n",
              "      <td>Austin</td>\n",
              "      <td>10/03/2019</td>\n",
              "      <td>Shoes</td>\n",
              "      <td>80.0</td>\n",
              "    </tr>\n",
              "    <tr>\n",
              "      <th>15</th>\n",
              "      <td>7</td>\n",
              "      <td>Jill</td>\n",
              "      <td>Michael</td>\n",
              "      <td>Austin</td>\n",
              "      <td>19/04/2019</td>\n",
              "      <td>Suit</td>\n",
              "      <td>150.0</td>\n",
              "    </tr>\n",
              "    <tr>\n",
              "      <th>16</th>\n",
              "      <td>8</td>\n",
              "      <td>John</td>\n",
              "      <td>Joseph</td>\n",
              "      <td>San Francisco</td>\n",
              "      <td>None</td>\n",
              "      <td>None</td>\n",
              "      <td>NaN</td>\n",
              "    </tr>\n",
              "    <tr>\n",
              "      <th>17</th>\n",
              "      <td>9</td>\n",
              "      <td>Justin</td>\n",
              "      <td>Alexander</td>\n",
              "      <td>Denver</td>\n",
              "      <td>None</td>\n",
              "      <td>None</td>\n",
              "      <td>NaN</td>\n",
              "    </tr>\n",
              "    <tr>\n",
              "      <th>18</th>\n",
              "      <td>14</td>\n",
              "      <td>Liam</td>\n",
              "      <td>Samuel</td>\n",
              "      <td>Miami</td>\n",
              "      <td>None</td>\n",
              "      <td>None</td>\n",
              "      <td>NaN</td>\n",
              "    </tr>\n",
              "    <tr>\n",
              "      <th>19</th>\n",
              "      <td>10</td>\n",
              "      <td>Lili</td>\n",
              "      <td>Oliver</td>\n",
              "      <td>Los Angeles</td>\n",
              "      <td>None</td>\n",
              "      <td>None</td>\n",
              "      <td>NaN</td>\n",
              "    </tr>\n",
              "    <tr>\n",
              "      <th>20</th>\n",
              "      <td>1</td>\n",
              "      <td>Mark</td>\n",
              "      <td>Thomas</td>\n",
              "      <td>Arizona</td>\n",
              "      <td>None</td>\n",
              "      <td>None</td>\n",
              "      <td>NaN</td>\n",
              "    </tr>\n",
              "    <tr>\n",
              "      <th>21</th>\n",
              "      <td>15</td>\n",
              "      <td>Mia</td>\n",
              "      <td>Owen</td>\n",
              "      <td>Miami</td>\n",
              "      <td>01/02/2019</td>\n",
              "      <td>Boats</td>\n",
              "      <td>100.0</td>\n",
              "    </tr>\n",
              "    <tr>\n",
              "      <th>22</th>\n",
              "      <td>15</td>\n",
              "      <td>Mia</td>\n",
              "      <td>Owen</td>\n",
              "      <td>Miami</td>\n",
              "      <td>01/03/2019</td>\n",
              "      <td>Jeans</td>\n",
              "      <td>80.0</td>\n",
              "    </tr>\n",
              "    <tr>\n",
              "      <th>23</th>\n",
              "      <td>15</td>\n",
              "      <td>Mia</td>\n",
              "      <td>Owen</td>\n",
              "      <td>Miami</td>\n",
              "      <td>09/03/2019</td>\n",
              "      <td>Shirts</td>\n",
              "      <td>50.0</td>\n",
              "    </tr>\n",
              "    <tr>\n",
              "      <th>24</th>\n",
              "      <td>15</td>\n",
              "      <td>Mia</td>\n",
              "      <td>Owen</td>\n",
              "      <td>Miami</td>\n",
              "      <td>11/01/2019</td>\n",
              "      <td>Shirts</td>\n",
              "      <td>60.0</td>\n",
              "    </tr>\n",
              "    <tr>\n",
              "      <th>25</th>\n",
              "      <td>15</td>\n",
              "      <td>Mia</td>\n",
              "      <td>Owen</td>\n",
              "      <td>Miami</td>\n",
              "      <td>11/03/2019</td>\n",
              "      <td>Slipper</td>\n",
              "      <td>20.0</td>\n",
              "    </tr>\n",
              "    <tr>\n",
              "      <th>26</th>\n",
              "      <td>15</td>\n",
              "      <td>Mia</td>\n",
              "      <td>Owen</td>\n",
              "      <td>Miami</td>\n",
              "      <td>19/04/2019</td>\n",
              "      <td>Skirt</td>\n",
              "      <td>30.0</td>\n",
              "    </tr>\n",
              "    <tr>\n",
              "      <th>27</th>\n",
              "      <td>15</td>\n",
              "      <td>Mia</td>\n",
              "      <td>Owen</td>\n",
              "      <td>Miami</td>\n",
              "      <td>20/04/2019</td>\n",
              "      <td>Dresses</td>\n",
              "      <td>200.0</td>\n",
              "    </tr>\n",
              "    <tr>\n",
              "      <th>28</th>\n",
              "      <td>2</td>\n",
              "      <td>Mona</td>\n",
              "      <td>Adrian</td>\n",
              "      <td>Los Angeles</td>\n",
              "      <td>None</td>\n",
              "      <td>None</td>\n",
              "      <td>NaN</td>\n",
              "    </tr>\n",
              "    <tr>\n",
              "      <th>29</th>\n",
              "      <td>4</td>\n",
              "      <td>William</td>\n",
              "      <td>Daniel</td>\n",
              "      <td>Denver</td>\n",
              "      <td>01/02/2019</td>\n",
              "      <td>Shoes</td>\n",
              "      <td>80.0</td>\n",
              "    </tr>\n",
              "    <tr>\n",
              "      <th>30</th>\n",
              "      <td>4</td>\n",
              "      <td>William</td>\n",
              "      <td>Daniel</td>\n",
              "      <td>Denver</td>\n",
              "      <td>11/01/2019</td>\n",
              "      <td>Shirts</td>\n",
              "      <td>60.0</td>\n",
              "    </tr>\n",
              "  </tbody>\n",
              "</table>\n",
              "</div>"
            ],
            "text/plain": [
              "    id first_name  last_name           city  order_date order_details  \\\n",
              "0   13       Emma      Isaac          Miami        None          None   \n",
              "1   12        Eva      Lucas        Arizona  11/01/2019        Shirts   \n",
              "2   12        Eva      Lucas        Arizona  11/01/2019          Coat   \n",
              "3   12        Eva      Lucas        Arizona  11/03/2019       Slipper   \n",
              "4    3     Farida     Joseph  San Francisco  01/03/2019         Shoes   \n",
              "5    3     Farida     Joseph  San Francisco  04/03/2019          Coat   \n",
              "6    3     Farida     Joseph  San Francisco  07/03/2019         Skirt   \n",
              "7    3     Farida     Joseph  San Francisco  19/04/2019        Shirts   \n",
              "8    5      Henry    Jackson          Miami  01/02/2019         Shoes   \n",
              "9    6       Jack      Aiden        Arizona        None          None   \n",
              "10   7       Jill    Michael         Austin  01/02/2019          Coat   \n",
              "11   7       Jill    Michael         Austin  01/04/2019          Suit   \n",
              "12   7       Jill    Michael         Austin  02/04/2019         Skirt   \n",
              "13   7       Jill    Michael         Austin  03/04/2019       Dresses   \n",
              "14   7       Jill    Michael         Austin  10/03/2019         Shoes   \n",
              "15   7       Jill    Michael         Austin  19/04/2019          Suit   \n",
              "16   8       John     Joseph  San Francisco        None          None   \n",
              "17   9     Justin  Alexander         Denver        None          None   \n",
              "18  14       Liam     Samuel          Miami        None          None   \n",
              "19  10       Lili     Oliver    Los Angeles        None          None   \n",
              "20   1       Mark     Thomas        Arizona        None          None   \n",
              "21  15        Mia       Owen          Miami  01/02/2019         Boats   \n",
              "22  15        Mia       Owen          Miami  01/03/2019         Jeans   \n",
              "23  15        Mia       Owen          Miami  09/03/2019        Shirts   \n",
              "24  15        Mia       Owen          Miami  11/01/2019        Shirts   \n",
              "25  15        Mia       Owen          Miami  11/03/2019       Slipper   \n",
              "26  15        Mia       Owen          Miami  19/04/2019         Skirt   \n",
              "27  15        Mia       Owen          Miami  20/04/2019       Dresses   \n",
              "28   2       Mona     Adrian    Los Angeles        None          None   \n",
              "29   4    William     Daniel         Denver  01/02/2019         Shoes   \n",
              "30   4    William     Daniel         Denver  11/01/2019        Shirts   \n",
              "\n",
              "    total_order_cost  \n",
              "0                NaN  \n",
              "1               60.0  \n",
              "2              125.0  \n",
              "3               20.0  \n",
              "4               80.0  \n",
              "5              100.0  \n",
              "6               30.0  \n",
              "7               50.0  \n",
              "8               80.0  \n",
              "9                NaN  \n",
              "10              25.0  \n",
              "11              50.0  \n",
              "12              30.0  \n",
              "13              50.0  \n",
              "14              80.0  \n",
              "15             150.0  \n",
              "16               NaN  \n",
              "17               NaN  \n",
              "18               NaN  \n",
              "19               NaN  \n",
              "20               NaN  \n",
              "21             100.0  \n",
              "22              80.0  \n",
              "23              50.0  \n",
              "24              60.0  \n",
              "25              20.0  \n",
              "26              30.0  \n",
              "27             200.0  \n",
              "28               NaN  \n",
              "29              80.0  \n",
              "30              60.0  "
            ]
          },
          "metadata": {},
          "output_type": "display_data"
        }
      ],
      "source": [
        "query = \"\"\"\n",
        "SELECT A.ID\n",
        "      ,A.FIRST_NAME\n",
        "      ,A.LAST_NAME\n",
        "\t  ,A.CITY\n",
        "\t  ,B.ORDER_DATE\n",
        "\t  ,B.ORDER_DETAILS\n",
        "\t  ,B.TOTAL_ORDER_COST\n",
        "FROM df_customers A\n",
        "LEFT JOIN df_orders B \n",
        "ON A.ID = B.CUST_ID\n",
        "WHERE 1 = 1\n",
        "ORDER BY A.FIRST_NAME, B.ORDER_DATE\n",
        "\"\"\"\n",
        "\n",
        "# Executar o SQL\n",
        "result = duckdb.query(query).to_df()\n",
        "\n",
        "# Mostrar o resultado\n",
        "display(result)"
      ]
    },
    {
      "cell_type": "markdown",
      "metadata": {},
      "source": [
        "## Validações específicas do case:"
      ]
    },
    {
      "cell_type": "code",
      "execution_count": 24,
      "metadata": {},
      "outputs": [
        {
          "name": "stdout",
          "output_type": "stream",
          "text": [
            "Quantidade de pares distintos de 'first_name' e 'last_name': 14\n",
            "Quantidade de registros na base': 14\n"
          ]
        }
      ],
      "source": [
        "# Contar o número de pares distintos de ['first_name', 'last_name']\n",
        "distinct_names_count = len(df_customers[['first_name', 'last_name']].drop_duplicates())\n",
        "\n",
        "# Exibir o resultado\n",
        "print(f\"Quantidade de pares distintos de 'first_name' e 'last_name': {distinct_names_count}\")\n",
        "print(f\"Quantidade de registros na base': {len(df_customers)}\")\n",
        "\n"
      ]
    },
    {
      "cell_type": "code",
      "execution_count": 25,
      "metadata": {},
      "outputs": [
        {
          "name": "stdout",
          "output_type": "stream",
          "text": [
            "Quantidade de clientes que não compraram': 8\n"
          ]
        }
      ],
      "source": [
        "# Filtrar o DataFrame pelas linhas em que 'order_date' é nulo\n",
        "df_valida = result[result['order_date'].isnull()]\n",
        "\n",
        "# Contar quantos nomes distintos (combinação de first_name e last_name) existem\n",
        "distinct_names_count = df_valida[['first_name', 'last_name']].drop_duplicates().shape[0]\n",
        "\n",
        "print(f\"Quantidade de clientes que não compraram': {distinct_names_count}\")\n"
      ]
    },
    {
      "cell_type": "code",
      "execution_count": 26,
      "metadata": {},
      "outputs": [
        {
          "name": "stdout",
          "output_type": "stream",
          "text": [
            "   first_name  last_name  order_count\n",
            "11        Mia       Owen            7\n",
            "5        Jill    Michael            6\n",
            "2      Farida     Joseph            4\n",
            "1         Eva      Lucas            3\n",
            "13    William     Daniel            2\n",
            "0        Emma      Isaac            1\n",
            "3       Henry    Jackson            1\n",
            "4        Jack      Aiden            1\n",
            "6        John     Joseph            1\n",
            "7      Justin  Alexander            1\n",
            "8        Liam     Samuel            1\n",
            "9        Lili     Oliver            1\n",
            "10       Mark     Thomas            1\n",
            "12       Mona     Adrian            1\n"
          ]
        }
      ],
      "source": [
        "# Contar o número de pedidos por cliente (agrupando por first_name e last_name)\n",
        "frequency_table = result.groupby(['first_name', 'last_name']).size().reset_index(name='order_count')\n",
        "\n",
        "# Ordenar pela quantidade de pedidos (opcional, para visualizar do maior para o menor)\n",
        "frequency_table_sorted = frequency_table.sort_values(by='order_count', ascending=False)\n",
        "\n",
        "# Exibir a tabela de frequência\n",
        "print(frequency_table_sorted)"
      ]
    },
    {
      "cell_type": "code",
      "execution_count": 27,
      "metadata": {},
      "outputs": [
        {
          "name": "stdout",
          "output_type": "stream",
          "text": [
            "Cliente que mais comprou: Mia Owen\n",
            "Valor total gasto: 540.0\n",
            "Cliente que menos comprou: Henry Jackson\n",
            "Valor total gasto: 80.0\n"
          ]
        }
      ],
      "source": [
        "# Filtrar o DataFrame para excluir os clientes com 'order_date' nulo\n",
        "filtered_result = result[result['order_date'].notnull()]\n",
        "\n",
        "# Agrupar por cliente e somar os valores de 'total_order_cost'\n",
        "total_spent_per_customer = filtered_result.groupby(['first_name', 'last_name'])['total_order_cost'].sum().reset_index()\n",
        "\n",
        "# Ordenar pela soma de 'total_order_cost' de forma decrescente\n",
        "sorted_total_spent = total_spent_per_customer.sort_values(by='total_order_cost', ascending=False)\n",
        "\n",
        "# Exibir o cliente que mais comprou e o valor\n",
        "most_spent_customer = sorted_total_spent.iloc[0]\n",
        "print(f\"Cliente que mais comprou: {most_spent_customer['first_name']} {most_spent_customer['last_name']}\")\n",
        "print(f\"Valor total gasto: {most_spent_customer['total_order_cost']}\")\n",
        "\n",
        "# Exibir o cliente que menos comprou\n",
        "least_spent_customer = sorted_total_spent.iloc[-1]\n",
        "print(f\"Cliente que menos comprou: {least_spent_customer['first_name']} {least_spent_customer['last_name']}\")\n",
        "print(f\"Valor total gasto: {least_spent_customer['total_order_cost']}\")"
      ]
    },
    {
      "cell_type": "markdown",
      "metadata": {},
      "source": [
        "## Resultado: \n",
        "\n",
        "A análise abrangeu as compras de 14 clientes. Desses, 57% realizaram 1 compra ou mais.\n",
        "\n",
        "- O cliente com maior frequência de compras realizou 7 compras, totalizando $540,00 gastos.\n",
        "- O cliente com menor frequência de compras fez apenas 1 compra, com um gasto total de $80,00.\n",
        "\n",
        "---\n",
        "\n",
        "## Análise complementar do Case 3 - RFV:\n",
        "\n",
        "A análise a seguir apresenta os clientes classificados de acordo com o RFV (Recência, Frequência e Valor), proporcionando uma visão detalhada do comportamento de compra e do valor total gasto por cada cliente."
      ]
    },
    {
      "cell_type": "code",
      "execution_count": 28,
      "metadata": {},
      "outputs": [
        {
          "name": "stdout",
          "output_type": "stream",
          "text": [
            "   first_name  last_name order_date  recency  frequency  value\n",
            "0        Emma      Isaac        NaT      NaN          1    0.0\n",
            "1         Eva      Lucas 2019-11-03   1869.0          3  205.0\n",
            "2      Farida     Joseph 2019-07-03   1992.0          4  260.0\n",
            "3       Henry    Jackson 2019-01-02   2174.0          1   80.0\n",
            "4        Jack      Aiden        NaT      NaN          1    0.0\n",
            "5        Jill    Michael 2019-10-03   1900.0          6  385.0\n",
            "6        John     Joseph        NaT      NaN          1    0.0\n",
            "7      Justin  Alexander        NaT      NaN          1    0.0\n",
            "8        Liam     Samuel        NaT      NaN          1    0.0\n",
            "9        Lili     Oliver        NaT      NaN          1    0.0\n",
            "10       Mark     Thomas        NaT      NaN          1    0.0\n",
            "11        Mia       Owen 2019-11-03   1869.0          7  540.0\n",
            "12       Mona     Adrian        NaT      NaN          1    0.0\n",
            "13    William     Daniel 2019-11-01   1871.0          2  140.0\n"
          ]
        }
      ],
      "source": [
        "# Converter 'order_date' para datetime se não estiver no formato correto\n",
        "result['order_date'] = pd.to_datetime(result['order_date'])\n",
        "\n",
        "# Calcular a Recência (R): dias desde o último pedido\n",
        "today = datetime.today()\n",
        "df_recency = result.groupby(['first_name', 'last_name'])['order_date'].max().reset_index()\n",
        "df_recency['recency'] = (today - df_recency['order_date']).dt.days\n",
        "\n",
        "# Calcular a Frequência (F): número de pedidos feitos por cada cliente\n",
        "df_frequency = result.groupby(['first_name', 'last_name']).size().reset_index(name='frequency')\n",
        "\n",
        "# Calcular o Valor (V): soma do total gasto por cada cliente\n",
        "df_value = result.groupby(['first_name', 'last_name'])['total_order_cost'].sum().reset_index(name='value')\n",
        "\n",
        "# Combinar as três métricas (Recência, Frequência e Valor)\n",
        "rfv_df = pd.merge(df_recency, df_frequency, on=['first_name', 'last_name'])\n",
        "rfv_df = pd.merge(rfv_df, df_value, on=['first_name', 'last_name'])\n",
        "\n",
        "# Exibir a tabela RFV\n",
        "print(rfv_df)"
      ]
    },
    {
      "cell_type": "code",
      "execution_count": 31,
      "metadata": {},
      "outputs": [
        {
          "data": {
            "image/png": "[encoded data removed]",
            "text/plain": [
              "<Figure size 1000x600 with 1 Axes>"
            ]
          },
          "metadata": {},
          "output_type": "display_data"
        },
        {
          "data": {
            "image/png": "[encoded data removed]",
            "text/plain": [
              "<Figure size 1000x600 with 1 Axes>"
            ]
          },
          "metadata": {},
          "output_type": "display_data"
        },
        {
          "data": {
            "image/png": "[encoded data removed]",
            "text/plain": [
              "<Figure size 1000x600 with 1 Axes>"
            ]
          },
          "metadata": {},
          "output_type": "display_data"
        }
      ],
      "source": [
        "# Configurar o estilo do gráfico\n",
        "sns.set(style=\"whitegrid\")\n",
        "\n",
        "# Gráfico de dispersão: Recência x Frequência\n",
        "plt.figure(figsize=(10, 6))\n",
        "sns.scatterplot(x='recency', y='frequency', data=rfv_df, hue='value', palette='viridis', size='value', sizes=(50, 200), legend=None)\n",
        "plt.title('Recência x Frequência', fontsize=16)\n",
        "plt.xlabel('Recência (dias desde o último pedido)', fontsize=12)\n",
        "plt.ylabel('Frequência (número de pedidos)', fontsize=12)\n",
        "plt.show()\n",
        "\n",
        "# Gráfico de dispersão: Frequência x Valor\n",
        "plt.figure(figsize=(10, 6))\n",
        "sns.scatterplot(x='frequency', y='value', data=rfv_df, hue='recency', palette='coolwarm', size='recency', sizes=(50, 200), legend=None)\n",
        "plt.title('Frequência x Valor', fontsize=16)\n",
        "plt.xlabel('Frequência (número de pedidos)', fontsize=12)\n",
        "plt.ylabel('Valor Total Gasto', fontsize=12)\n",
        "plt.show()\n",
        "\n",
        "# Gráfico de dispersão: Recência x Valor\n",
        "plt.figure(figsize=(10, 6))\n",
        "sns.scatterplot(x='recency', y='value', data=rfv_df, hue='frequency', palette='Blues', size='frequency', sizes=(50, 200), legend=None)\n",
        "plt.title('Recência x Valor', fontsize=16)\n",
        "plt.xlabel('Recência (dias desde o último pedido)', fontsize=12)\n",
        "plt.ylabel('Valor Total Gasto', fontsize=12)\n",
        "plt.show()"
      ]
    },
    {
      "cell_type": "code",
      "execution_count": 32,
      "metadata": {},
      "outputs": [
        {
          "data": {
            "text/html": [
              "<div>\n",
              "<style scoped>\n",
              "    .dataframe tbody tr th:only-of-type {\n",
              "        vertical-align: middle;\n",
              "    }\n",
              "\n",
              "    .dataframe tbody tr th {\n",
              "        vertical-align: top;\n",
              "    }\n",
              "\n",
              "    .dataframe thead th {\n",
              "        text-align: right;\n",
              "    }\n",
              "</style>\n",
              "<table border=\"1\" class=\"dataframe\">\n",
              "  <thead>\n",
              "    <tr style=\"text-align: right;\">\n",
              "      <th></th>\n",
              "      <th>first_name</th>\n",
              "      <th>last_name</th>\n",
              "      <th>recency</th>\n",
              "      <th>frequency</th>\n",
              "      <th>value</th>\n",
              "      <th>recency_score</th>\n",
              "      <th>frequency_score</th>\n",
              "      <th>value_score</th>\n",
              "      <th>total_rfv_score</th>\n",
              "    </tr>\n",
              "  </thead>\n",
              "  <tbody>\n",
              "    <tr>\n",
              "      <th>11</th>\n",
              "      <td>Mia</td>\n",
              "      <td>Owen</td>\n",
              "      <td>1869.0</td>\n",
              "      <td>7</td>\n",
              "      <td>540.0</td>\n",
              "      <td>1</td>\n",
              "      <td>3</td>\n",
              "      <td>4</td>\n",
              "      <td>8</td>\n",
              "    </tr>\n",
              "    <tr>\n",
              "      <th>5</th>\n",
              "      <td>Jill</td>\n",
              "      <td>Michael</td>\n",
              "      <td>1900.0</td>\n",
              "      <td>6</td>\n",
              "      <td>385.0</td>\n",
              "      <td>1</td>\n",
              "      <td>3</td>\n",
              "      <td>3</td>\n",
              "      <td>7</td>\n",
              "    </tr>\n",
              "    <tr>\n",
              "      <th>1</th>\n",
              "      <td>Eva</td>\n",
              "      <td>Lucas</td>\n",
              "      <td>1869.0</td>\n",
              "      <td>3</td>\n",
              "      <td>205.0</td>\n",
              "      <td>1</td>\n",
              "      <td>2</td>\n",
              "      <td>3</td>\n",
              "      <td>6</td>\n",
              "    </tr>\n",
              "    <tr>\n",
              "      <th>2</th>\n",
              "      <td>Farida</td>\n",
              "      <td>Joseph</td>\n",
              "      <td>1992.0</td>\n",
              "      <td>4</td>\n",
              "      <td>260.0</td>\n",
              "      <td>1</td>\n",
              "      <td>2</td>\n",
              "      <td>3</td>\n",
              "      <td>6</td>\n",
              "    </tr>\n",
              "    <tr>\n",
              "      <th>3</th>\n",
              "      <td>Henry</td>\n",
              "      <td>Jackson</td>\n",
              "      <td>2174.0</td>\n",
              "      <td>1</td>\n",
              "      <td>80.0</td>\n",
              "      <td>1</td>\n",
              "      <td>2</td>\n",
              "      <td>2</td>\n",
              "      <td>5</td>\n",
              "    </tr>\n",
              "    <tr>\n",
              "      <th>13</th>\n",
              "      <td>William</td>\n",
              "      <td>Daniel</td>\n",
              "      <td>1871.0</td>\n",
              "      <td>2</td>\n",
              "      <td>140.0</td>\n",
              "      <td>1</td>\n",
              "      <td>2</td>\n",
              "      <td>2</td>\n",
              "      <td>5</td>\n",
              "    </tr>\n",
              "  </tbody>\n",
              "</table>\n",
              "</div>"
            ],
            "text/plain": [
              "   first_name last_name  recency  frequency  value  recency_score  \\\n",
              "11        Mia      Owen   1869.0          7  540.0              1   \n",
              "5        Jill   Michael   1900.0          6  385.0              1   \n",
              "1         Eva     Lucas   1869.0          3  205.0              1   \n",
              "2      Farida    Joseph   1992.0          4  260.0              1   \n",
              "3       Henry   Jackson   2174.0          1   80.0              1   \n",
              "13    William    Daniel   1871.0          2  140.0              1   \n",
              "\n",
              "    frequency_score  value_score  total_rfv_score  \n",
              "11                3            4                8  \n",
              "5                 3            3                7  \n",
              "1                 2            3                6  \n",
              "2                 2            3                6  \n",
              "3                 2            2                5  \n",
              "13                2            2                5  "
            ]
          },
          "execution_count": 32,
          "metadata": {},
          "output_type": "execute_result"
        }
      ],
      "source": [
        "# Definir quantis ou intervalos para cada métrica (Recência, Frequência e Valor)\n",
        "def rfv_score(df):\n",
        "    # Pontuação para Recência (quanto menor, melhor)\n",
        "    recency_bins = [0, 7, 30, 60, 90, np.inf]\n",
        "    recency_labels = [5, 4, 3, 2, 1]\n",
        "    \n",
        "    # Criar uma coluna categórica com as categorias definidas\n",
        "    df['recency_score'] = pd.cut(df['recency'], bins=recency_bins, labels=recency_labels, right=False)\n",
        "    \n",
        "    # Garantir que os valores NaN sejam tratados antes da conversão\n",
        "    df['recency_score'] = df['recency_score'].cat.add_categories([0]).fillna(0)\n",
        "\n",
        "    # Pontuação para Frequência (quanto maior, melhor)\n",
        "    frequency_bins = [0, 1, 5, 10, np.inf]\n",
        "    frequency_labels = [1, 2, 3, 4]\n",
        "    \n",
        "    # Criar uma coluna categórica com as categorias definidas\n",
        "    df['frequency_score'] = pd.cut(df['frequency'], bins=frequency_bins, labels=frequency_labels, right=False)\n",
        "    \n",
        "    # Garantir que os valores NaN sejam tratados antes da conversão\n",
        "    df['frequency_score'] = df['frequency_score'].cat.add_categories([0]).fillna(0)\n",
        "\n",
        "    # Pontuação para Valor (quanto maior, melhor)\n",
        "    value_bins = [0, 50, 150, 500, np.inf]\n",
        "    value_labels = [1, 2, 3, 4]\n",
        "    \n",
        "    # Criar uma coluna categórica com as categorias definidas\n",
        "    df['value_score'] = pd.cut(df['value'], bins=value_bins, labels=value_labels, right=False)\n",
        "    \n",
        "    # Garantir que os valores NaN sejam tratados antes da conversão\n",
        "    df['value_score'] = df['value_score'].cat.add_categories([0]).fillna(0)\n",
        "\n",
        "    # Convertendo as pontuações para inteiros\n",
        "    df['recency_score'] = df['recency_score'].astype(int)\n",
        "    df['frequency_score'] = df['frequency_score'].astype(int)\n",
        "    df['value_score'] = df['value_score'].astype(int)\n",
        "\n",
        "    # Pontuação total: Somar as pontuações de Recência, Frequência e Valor\n",
        "    df['total_rfv_score'] = df['recency_score'] + df['frequency_score'] + df['value_score']\n",
        "\n",
        "    return df\n",
        "\n",
        "# Aplicar a função de pontuação RFV\n",
        "rfv_df2 = rfv_score(rfv_df)\n",
        "\n",
        "# Ordenar os clientes pela pontuação total de RFV (quanto maior a pontuação, melhor)\n",
        "rfv_df_sorted = rfv_df2.sort_values(by='total_rfv_score', ascending=False)\n",
        "\n",
        "# Exibir a tabela com a classificação dos clientes que compraram.\n",
        "rfv_df_sorted = rfv_df_sorted[rfv_df_sorted['recency'].notnull()]\n",
        "rfv_df_sorted[['first_name', 'last_name', 'recency', 'frequency', 'value', 'recency_score', 'frequency_score', 'value_score', 'total_rfv_score']]"
      ]
    },
    {
      "cell_type": "markdown",
      "metadata": {},
      "source": [
        "## Resultado: \n",
        "- Os melhores clientes possuem médias de compra de $462,50 e frequência de aproximadamente 6 vezes.\n",
        "- Os clientes em precisão de atenção possuem média de compra de $232,50 e frequência de aproximadamente 3 vezes.\n",
        "- Os clientes inativos ou quase inativos possuem média de compra de $110,00 e frequência de aproximadamente 1 vez.\n",
        "\n",
        "---\n",
        "\n"
      ]
    },
    {
      "cell_type": "markdown",
      "metadata": {},
      "source": [
        "## **Case 4**\n",
        "Objetivo: Você recebeu um conjunto de dados que fornece o **número de usuários ativos por dia por conta premium.**  \n",
        "Uma conta premium terá **uma entrada para cada dia em que for premium.**  \n",
        "No entanto, **uma conta premium pode ser temporariamente descontada e considerada não paga,** o que é indicado por um valor de **0 na coluna final_price** para um determinado dia.  \n",
        "**Descubra quantas contas premium pagas em um determinado dia ainda são premium e pagas 7 dias depois.**  \n",
        "**Exiba a data**, o **número de contas premium e pagas naquele dia**, e o **número de quantas dessas contas ainda são premium e pagas 7 dias depois.**  \n",
        "Como você só tem **dados para um período de 14 dias**, inclua **apenas as primeiras 7 datas disponíveis** no resultado.  \n",
        "\n",
        "**Tabela:** premium_accounts_by_day.\n",
        "\n",
        "Armazena informações diárias sobre contas premium e seu status de pagamento, além de usuários ativos nos últimos 7 dias. A base é útil para identificar a retenção de contas premium pagas ao longo do tempo e analisar tendências de comportamento dos usuários.\n",
        "\n",
        "| **Campo**               | **Tipo**      | **Descrição**                                                    |\n",
        "|-------------------------|---------------|------------------------------------------------------------------|\n",
        "| **account_id**          | `varchar`     | Identificador único da conta premium.                            |\n",
        "| **entry_date**          | `datetime`    | Data da entrada (registro do dia específico para a conta).       |\n",
        "| **users_visited_7d**    | `int`         | Número de usuários ativos nos últimos 7 dias.                    |\n",
        "| **final_price**         | `int`         | Preço final pago pela conta naquele dia (0 indica não pago).     |\n",
        "| **plan_size**           | `int`         | Tamanho do plano associado à conta premium.                      |\n"
      ]
    },
    {
      "cell_type": "markdown",
      "metadata": {},
      "source": [
        "## Leitura e validação:"
      ]
    },
    {
      "cell_type": "code",
      "execution_count": 33,
      "metadata": {},
      "outputs": [
        {
          "data": {
            "text/markdown": [
              "### 1 - Primeiras linhas do arquivo"
            ],
            "text/plain": [
              "<IPython.core.display.Markdown object>"
            ]
          },
          "metadata": {},
          "output_type": "display_data"
        },
        {
          "data": {
            "text/html": [
              "<div>\n",
              "<style scoped>\n",
              "    .dataframe tbody tr th:only-of-type {\n",
              "        vertical-align: middle;\n",
              "    }\n",
              "\n",
              "    .dataframe tbody tr th {\n",
              "        vertical-align: top;\n",
              "    }\n",
              "\n",
              "    .dataframe thead th {\n",
              "        text-align: right;\n",
              "    }\n",
              "</style>\n",
              "<table border=\"1\" class=\"dataframe\">\n",
              "  <thead>\n",
              "    <tr style=\"text-align: right;\">\n",
              "      <th></th>\n",
              "      <th>account_id</th>\n",
              "      <th>entry_date</th>\n",
              "      <th>users_visited_7d</th>\n",
              "      <th>final_price</th>\n",
              "      <th>plan_size</th>\n",
              "    </tr>\n",
              "  </thead>\n",
              "  <tbody>\n",
              "    <tr>\n",
              "      <th>0</th>\n",
              "      <td>A01</td>\n",
              "      <td>07/02/2022</td>\n",
              "      <td>1</td>\n",
              "      <td>100</td>\n",
              "      <td>10</td>\n",
              "    </tr>\n",
              "    <tr>\n",
              "      <th>1</th>\n",
              "      <td>A03</td>\n",
              "      <td>07/02/2022</td>\n",
              "      <td>30</td>\n",
              "      <td>400</td>\n",
              "      <td>50</td>\n",
              "    </tr>\n",
              "    <tr>\n",
              "      <th>2</th>\n",
              "      <td>A01</td>\n",
              "      <td>08/02/2022</td>\n",
              "      <td>3</td>\n",
              "      <td>100</td>\n",
              "      <td>10</td>\n",
              "    </tr>\n",
              "    <tr>\n",
              "      <th>3</th>\n",
              "      <td>A03</td>\n",
              "      <td>08/02/2022</td>\n",
              "      <td>39</td>\n",
              "      <td>400</td>\n",
              "      <td>50</td>\n",
              "    </tr>\n",
              "    <tr>\n",
              "      <th>4</th>\n",
              "      <td>A05</td>\n",
              "      <td>08/02/2022</td>\n",
              "      <td>14</td>\n",
              "      <td>400</td>\n",
              "      <td>50</td>\n",
              "    </tr>\n",
              "  </tbody>\n",
              "</table>\n",
              "</div>"
            ],
            "text/plain": [
              "  account_id  entry_date  users_visited_7d  final_price  plan_size\n",
              "0        A01  07/02/2022                 1          100         10\n",
              "1        A03  07/02/2022                30          400         50\n",
              "2        A01  08/02/2022                 3          100         10\n",
              "3        A03  08/02/2022                39          400         50\n",
              "4        A05  08/02/2022                14          400         50"
            ]
          },
          "metadata": {},
          "output_type": "display_data"
        },
        {
          "data": {
            "text/markdown": [
              "### 2 - Quantidade de linhas e colunas"
            ],
            "text/plain": [
              "<IPython.core.display.Markdown object>"
            ]
          },
          "metadata": {},
          "output_type": "display_data"
        },
        {
          "name": "stdout",
          "output_type": "stream",
          "text": [
            "(54, 5)\n"
          ]
        },
        {
          "data": {
            "text/markdown": [
              "### 3 - Tipos de dados"
            ],
            "text/plain": [
              "<IPython.core.display.Markdown object>"
            ]
          },
          "metadata": {},
          "output_type": "display_data"
        },
        {
          "name": "stdout",
          "output_type": "stream",
          "text": [
            "<class 'pandas.core.frame.DataFrame'>\n",
            "RangeIndex: 54 entries, 0 to 53\n",
            "Data columns (total 5 columns):\n",
            " #   Column            Non-Null Count  Dtype \n",
            "---  ------            --------------  ----- \n",
            " 0   account_id        54 non-null     object\n",
            " 1   entry_date        54 non-null     object\n",
            " 2   users_visited_7d  54 non-null     int64 \n",
            " 3   final_price       54 non-null     int64 \n",
            " 4   plan_size         54 non-null     int64 \n",
            "dtypes: int64(3), object(2)\n",
            "memory usage: 2.2+ KB\n",
            "None\n"
          ]
        },
        {
          "data": {
            "text/markdown": [
              "### 4 - Estatísticas descritivas"
            ],
            "text/plain": [
              "<IPython.core.display.Markdown object>"
            ]
          },
          "metadata": {},
          "output_type": "display_data"
        },
        {
          "data": {
            "text/html": [
              "<div>\n",
              "<style scoped>\n",
              "    .dataframe tbody tr th:only-of-type {\n",
              "        vertical-align: middle;\n",
              "    }\n",
              "\n",
              "    .dataframe tbody tr th {\n",
              "        vertical-align: top;\n",
              "    }\n",
              "\n",
              "    .dataframe thead th {\n",
              "        text-align: right;\n",
              "    }\n",
              "</style>\n",
              "<table border=\"1\" class=\"dataframe\">\n",
              "  <thead>\n",
              "    <tr style=\"text-align: right;\">\n",
              "      <th></th>\n",
              "      <th>account_id</th>\n",
              "      <th>entry_date</th>\n",
              "      <th>users_visited_7d</th>\n",
              "      <th>final_price</th>\n",
              "      <th>plan_size</th>\n",
              "    </tr>\n",
              "  </thead>\n",
              "  <tbody>\n",
              "    <tr>\n",
              "      <th>count</th>\n",
              "      <td>54</td>\n",
              "      <td>54</td>\n",
              "      <td>54.000000</td>\n",
              "      <td>54.000000</td>\n",
              "      <td>54.000000</td>\n",
              "    </tr>\n",
              "    <tr>\n",
              "      <th>unique</th>\n",
              "      <td>5</td>\n",
              "      <td>14</td>\n",
              "      <td>NaN</td>\n",
              "      <td>NaN</td>\n",
              "      <td>NaN</td>\n",
              "    </tr>\n",
              "    <tr>\n",
              "      <th>top</th>\n",
              "      <td>A03</td>\n",
              "      <td>11/02/2022</td>\n",
              "      <td>NaN</td>\n",
              "      <td>NaN</td>\n",
              "      <td>NaN</td>\n",
              "    </tr>\n",
              "    <tr>\n",
              "      <th>freq</th>\n",
              "      <td>14</td>\n",
              "      <td>5</td>\n",
              "      <td>NaN</td>\n",
              "      <td>NaN</td>\n",
              "      <td>NaN</td>\n",
              "    </tr>\n",
              "    <tr>\n",
              "      <th>mean</th>\n",
              "      <td>NaN</td>\n",
              "      <td>NaN</td>\n",
              "      <td>127.222222</td>\n",
              "      <td>283.888889</td>\n",
              "      <td>54.074074</td>\n",
              "    </tr>\n",
              "    <tr>\n",
              "      <th>std</th>\n",
              "      <td>NaN</td>\n",
              "      <td>NaN</td>\n",
              "      <td>111.336252</td>\n",
              "      <td>291.032104</td>\n",
              "      <td>30.313987</td>\n",
              "    </tr>\n",
              "    <tr>\n",
              "      <th>min</th>\n",
              "      <td>NaN</td>\n",
              "      <td>NaN</td>\n",
              "      <td>1.000000</td>\n",
              "      <td>0.000000</td>\n",
              "      <td>10.000000</td>\n",
              "    </tr>\n",
              "    <tr>\n",
              "      <th>25%</th>\n",
              "      <td>NaN</td>\n",
              "      <td>NaN</td>\n",
              "      <td>32.500000</td>\n",
              "      <td>20.000000</td>\n",
              "      <td>35.000000</td>\n",
              "    </tr>\n",
              "    <tr>\n",
              "      <th>50%</th>\n",
              "      <td>NaN</td>\n",
              "      <td>NaN</td>\n",
              "      <td>103.000000</td>\n",
              "      <td>100.000000</td>\n",
              "      <td>50.000000</td>\n",
              "    </tr>\n",
              "    <tr>\n",
              "      <th>75%</th>\n",
              "      <td>NaN</td>\n",
              "      <td>NaN</td>\n",
              "      <td>190.500000</td>\n",
              "      <td>400.000000</td>\n",
              "      <td>70.000000</td>\n",
              "    </tr>\n",
              "    <tr>\n",
              "      <th>max</th>\n",
              "      <td>NaN</td>\n",
              "      <td>NaN</td>\n",
              "      <td>412.000000</td>\n",
              "      <td>800.000000</td>\n",
              "      <td>100.000000</td>\n",
              "    </tr>\n",
              "  </tbody>\n",
              "</table>\n",
              "</div>"
            ],
            "text/plain": [
              "       account_id  entry_date  users_visited_7d  final_price   plan_size\n",
              "count          54          54         54.000000    54.000000   54.000000\n",
              "unique          5          14               NaN          NaN         NaN\n",
              "top           A03  11/02/2022               NaN          NaN         NaN\n",
              "freq           14           5               NaN          NaN         NaN\n",
              "mean          NaN         NaN        127.222222   283.888889   54.074074\n",
              "std           NaN         NaN        111.336252   291.032104   30.313987\n",
              "min           NaN         NaN          1.000000     0.000000   10.000000\n",
              "25%           NaN         NaN         32.500000    20.000000   35.000000\n",
              "50%           NaN         NaN        103.000000   100.000000   50.000000\n",
              "75%           NaN         NaN        190.500000   400.000000   70.000000\n",
              "max           NaN         NaN        412.000000   800.000000  100.000000"
            ]
          },
          "metadata": {},
          "output_type": "display_data"
        },
        {
          "data": {
            "text/markdown": [
              "### 5 - Valores ausentes por coluna"
            ],
            "text/plain": [
              "<IPython.core.display.Markdown object>"
            ]
          },
          "metadata": {},
          "output_type": "display_data"
        },
        {
          "name": "stdout",
          "output_type": "stream",
          "text": [
            "account_id          0\n",
            "entry_date          0\n",
            "users_visited_7d    0\n",
            "final_price         0\n",
            "plan_size           0\n",
            "dtype: int64\n"
          ]
        },
        {
          "data": {
            "text/markdown": [
              "### 6 - Valores únicos por coluna"
            ],
            "text/plain": [
              "<IPython.core.display.Markdown object>"
            ]
          },
          "metadata": {},
          "output_type": "display_data"
        },
        {
          "name": "stdout",
          "output_type": "stream",
          "text": [
            "account_id           5\n",
            "entry_date          14\n",
            "users_visited_7d    50\n",
            "final_price          7\n",
            "plan_size            6\n",
            "dtype: int64\n"
          ]
        },
        {
          "data": {
            "text/markdown": [
              "### 7 - Valores duplicados"
            ],
            "text/plain": [
              "<IPython.core.display.Markdown object>"
            ]
          },
          "metadata": {},
          "output_type": "display_data"
        },
        {
          "name": "stdout",
          "output_type": "stream",
          "text": [
            "0\n"
          ]
        }
      ],
      "source": [
        "# Carregar o CSV\n",
        "df_premium = pd.read_csv('../Data/Raw/premium_accounts_by_day.csv', sep=\";\")\n",
        "\n",
        "valida_df(df_premium, 'premium_accounts_by_day')"
      ]
    },
    {
      "cell_type": "markdown",
      "metadata": {},
      "source": [
        "## Consulta:\n",
        "\n",
        "- Seleciono inicialmente somente os registros com final_price > 0  (contas premium pagas) na base premium_ativo.\n",
        "- Faço um produto cartesiano entre as datas para encontrar qual é a data que tem a diferença exata de 7 dias e filtro somente esses registros numa base premium_ativo_no_7_dia.\n",
        "- Na base inicial com todos os registros ativos (premium_ativo), agrupo pela data a contagem de contas dela, a contagem de contas respectiva da base filtrada de 7 dias (premium_ativo_no_7_dia).\n",
        "- Depois de ordenar as datas da base final em order crescente, filtro somente as 7 primeiras."
      ]
    },
    {
      "cell_type": "code",
      "execution_count": 34,
      "metadata": {},
      "outputs": [
        {
          "data": {
            "text/html": [
              "<div>\n",
              "<style scoped>\n",
              "    .dataframe tbody tr th:only-of-type {\n",
              "        vertical-align: middle;\n",
              "    }\n",
              "\n",
              "    .dataframe tbody tr th {\n",
              "        vertical-align: top;\n",
              "    }\n",
              "\n",
              "    .dataframe thead th {\n",
              "        text-align: right;\n",
              "    }\n",
              "</style>\n",
              "<table border=\"1\" class=\"dataframe\">\n",
              "  <thead>\n",
              "    <tr style=\"text-align: right;\">\n",
              "      <th></th>\n",
              "      <th>DATA</th>\n",
              "      <th>CONTAS_PREMIUM</th>\n",
              "      <th>CONTAS_PREMIUM_NO_7_DIA</th>\n",
              "    </tr>\n",
              "  </thead>\n",
              "  <tbody>\n",
              "    <tr>\n",
              "      <th>0</th>\n",
              "      <td>07/02/2022</td>\n",
              "      <td>2</td>\n",
              "      <td>2</td>\n",
              "    </tr>\n",
              "    <tr>\n",
              "      <th>1</th>\n",
              "      <td>08/02/2022</td>\n",
              "      <td>3</td>\n",
              "      <td>2</td>\n",
              "    </tr>\n",
              "    <tr>\n",
              "      <th>2</th>\n",
              "      <td>09/02/2022</td>\n",
              "      <td>3</td>\n",
              "      <td>2</td>\n",
              "    </tr>\n",
              "    <tr>\n",
              "      <th>3</th>\n",
              "      <td>10/02/2022</td>\n",
              "      <td>4</td>\n",
              "      <td>3</td>\n",
              "    </tr>\n",
              "    <tr>\n",
              "      <th>4</th>\n",
              "      <td>11/02/2022</td>\n",
              "      <td>4</td>\n",
              "      <td>1</td>\n",
              "    </tr>\n",
              "    <tr>\n",
              "      <th>5</th>\n",
              "      <td>12/02/2022</td>\n",
              "      <td>4</td>\n",
              "      <td>2</td>\n",
              "    </tr>\n",
              "    <tr>\n",
              "      <th>6</th>\n",
              "      <td>13/02/2022</td>\n",
              "      <td>4</td>\n",
              "      <td>1</td>\n",
              "    </tr>\n",
              "  </tbody>\n",
              "</table>\n",
              "</div>"
            ],
            "text/plain": [
              "         DATA  CONTAS_PREMIUM  CONTAS_PREMIUM_NO_7_DIA\n",
              "0  07/02/2022               2                        2\n",
              "1  08/02/2022               3                        2\n",
              "2  09/02/2022               3                        2\n",
              "3  10/02/2022               4                        3\n",
              "4  11/02/2022               4                        1\n",
              "5  12/02/2022               4                        2\n",
              "6  13/02/2022               4                        1"
            ]
          },
          "metadata": {},
          "output_type": "display_data"
        }
      ],
      "source": [
        "query = \"\"\"\n",
        "WITH PREMIUM_ATIVO AS (\n",
        "    SELECT\n",
        "        ACCOUNT_ID\n",
        "        -- CONVERTENDO O FORMATO DE DATA 'DD/MM/YYYY' PARA 'YYYY-MM-DD'\n",
        "        ,CAST(SUBSTRING(ENTRY_DATE, 7, 4) || '-' || SUBSTRING(ENTRY_DATE, 4, 2) || '-' || SUBSTRING(ENTRY_DATE, 1, 2) AS TIMESTAMP) AS ENTRY_DATE\n",
        "        ,ENTRY_DATE AS DATA\n",
        "        ,FINAL_PRICE\n",
        "    FROM\n",
        "        df_premium\n",
        "    WHERE 1 = 1\n",
        "    AND FINAL_PRICE > 0  -- CONSIDERA APENAS AS CONTAS PREMIUM PAGAS\n",
        "),\n",
        "PREMIUM_ATIVO_NO_7_DIA AS (\n",
        "    SELECT\n",
        "        A.ACCOUNT_ID\n",
        "        ,A.ENTRY_DATE AS ORIGINAL_ENTRY_DATE\n",
        "        ,B.ENTRY_DATE AS SETIMO_DIA_ENTRY_DATA\n",
        "        ,DATEDIFF('DAY', A.ENTRY_DATE, B.ENTRY_DATE) AS DIF\n",
        "    FROM\n",
        "        PREMIUM_ATIVO A\n",
        "    JOIN\n",
        "        PREMIUM_ATIVO B ON A.ACCOUNT_ID = B.ACCOUNT_ID\n",
        "    WHERE 1 = 1\n",
        "    AND DATEDIFF('DAY', A.ENTRY_DATE, B.ENTRY_DATE) = 7  -- DIFERENÇA DE 7 DIAS\n",
        ")\n",
        "SELECT\n",
        "    A.DATA\n",
        "    ,COUNT(DISTINCT A.ACCOUNT_ID) AS CONTAS_PREMIUM\n",
        "    ,COUNT(DISTINCT S.ACCOUNT_ID) AS CONTAS_PREMIUM_NO_7_DIA\n",
        "FROM\n",
        "    PREMIUM_ATIVO A\n",
        "LEFT JOIN\n",
        "    PREMIUM_ATIVO_NO_7_DIA S \n",
        "    ON A.ACCOUNT_ID = S.ACCOUNT_ID \n",
        "    AND A.ENTRY_DATE = S.ORIGINAL_ENTRY_DATE\n",
        "GROUP BY\n",
        "    A.DATA\n",
        "ORDER BY\n",
        "    A.DATA\n",
        "LIMIT 7;  -- LIMITA AOS PRIMEIROS 7 DIAS\n",
        "\"\"\"\n",
        "\n",
        "# Executar o SQL\n",
        "result = duckdb.query(query).to_df()\n",
        "\n",
        "# Mostrar o resultado\n",
        "display(result)"
      ]
    },
    {
      "cell_type": "markdown",
      "metadata": {},
      "source": [
        "## Gráfico complementar:"
      ]
    },
    {
      "cell_type": "code",
      "execution_count": 35,
      "metadata": {},
      "outputs": [
        {
          "data": {
            "image/png": "[encoded data removed]",
            "text/plain": [
              "<Figure size 1000x600 with 1 Axes>"
            ]
          },
          "metadata": {},
          "output_type": "display_data"
        }
      ],
      "source": [
        "# Plotando o gráfico\n",
        "plt.figure(figsize=(10, 6))\n",
        "plt.plot(result['DATA'], result['CONTAS_PREMIUM'], label='Contas Premium na data original', marker='o', linestyle='-', color='b')\n",
        "plt.plot(result['DATA'], result['CONTAS_PREMIUM_NO_7_DIA'], label='Contas Premium após 7 dias', marker='x', linestyle='--', color='r')\n",
        "\n",
        "# Adicionando rótulos nos pontos\n",
        "for i, data in enumerate(result['DATA']):\n",
        "    # Rótulos para as contas premium na data original\n",
        "    plt.text(data, result['CONTAS_PREMIUM'][i], str(result['CONTAS_PREMIUM'][i]), \n",
        "             color='blue', fontsize=20, ha='center', va='bottom')\n",
        "    # Rótulos para as contas premium após 7 dias\n",
        "    plt.text(data, result['CONTAS_PREMIUM_NO_7_DIA'][i], str(result['CONTAS_PREMIUM_NO_7_DIA'][i]), \n",
        "             color='red', fontsize=20, ha='center', va='bottom')\n",
        "\n",
        "# Adicionando título e rótulos\n",
        "plt.title('Contas Premium que continuaram ativas após 7 dias')\n",
        "plt.xlabel('Data')\n",
        "plt.ylabel('Qtd. de contas')\n",
        "plt.legend()\n",
        "\n",
        "# Removendo a grade e o eixo vertical\n",
        "plt.grid(False)  # Remove a grade\n",
        "plt.gca().spines['left'].set_visible(False)  # Remove a linha do eixo vertical (esquerda)\n",
        "plt.gca().spines['right'].set_visible(False)  # Remove a linha do eixo vertical (direita)\n",
        "plt.gca().spines['top'].set_visible(False)  # Remove a linha do eixo superior\n",
        "plt.tick_params(left=False)  # Remove as marcas no eixo vertical (esquerda)\n",
        "plt.yticks([])  # Remove os rótulos do eixo vertical\n",
        "\n",
        "# Mantendo apenas o eixo horizontal (Data)\n",
        "plt.xticks(rotation=45)\n",
        "plt.tight_layout()\n",
        "plt.show()"
      ]
    },
    {
      "cell_type": "markdown",
      "metadata": {},
      "source": [
        "## Resultado: \n",
        "\n",
        "O número de contas premium que continuam ativas depois de 7 dias tem reduzido ao longo do tempo, mesmo em um período curto de 7 dias.   \n",
        "Recomendo análise de períodos maiores e estudos complementares com amostra estatísticamente válida. \n",
        "\n",
        "---"
      ]
    },
    {
      "cell_type": "markdown",
      "metadata": {},
      "source": [
        "## **Case 5**\n",
        "Objetivo: Encontre a **taxa de retenção mensal de usuários** para **cada conta** separadamente para **dezembro de 2020 e janeiro de 2021.**  \n",
        "A **taxa de retenção** é a porcentagem de usuários ativos que uma conta retém durante um determinado período de tempo.  \n",
        "Neste caso, **assuma que o usuário é retido se ele/ela permanecer usando o aplicativo em qualquer mês futuro.**  \n",
        "Por exemplo, **se um usuário esteve ativo em dezembro de 2020** e tem **atividade em qualquer mês futuro**, considere-o **retido para dezembro.**  \n",
        "Você pode assumir que **todas as contas estão presentes em dezembro de 2020 e janeiro de 2021.**  \n",
        "Sua saída deve conter **o ID da conta e a taxa de retenção de janeiro de 2021 dividida pela taxa de retenção de dezembro de 2020.**  \n",
        "\n",
        "\n",
        "**Tabela:** sf_events.\n",
        "\n",
        "Armazena eventos relacionados à atividade de usuários em diferentes contas ao longo do tempo. Cada registro contém a data do evento, o ID da conta e o ID do usuário. Essa base permite calcular a taxa de retenção de usuários para períodos específicos, analisando a continuidade da atividade.\n",
        "\n",
        "**Dicionário de dados:**\n",
        "\n",
        "| **Campo**      | **Tipo**      | **Descrição**                                                       |\n",
        "|----------------|---------------|---------------------------------------------------------------------|\n",
        "| **date**       | `datetime`    | Data do evento associado à atividade do usuário.                   |\n",
        "| **account_id** | `varchar`     | Identificador único da conta que o usuário está utilizando.        |\n",
        "| **user_id**    | `varchar`     | Identificador único do usuário ativo na conta em uma determinada data. |"
      ]
    },
    {
      "cell_type": "markdown",
      "metadata": {},
      "source": [
        "## Leitura e validação:"
      ]
    },
    {
      "cell_type": "code",
      "execution_count": 36,
      "metadata": {},
      "outputs": [
        {
          "data": {
            "text/markdown": [
              "### 1 - Primeiras linhas do arquivo"
            ],
            "text/plain": [
              "<IPython.core.display.Markdown object>"
            ]
          },
          "metadata": {},
          "output_type": "display_data"
        },
        {
          "data": {
            "text/html": [
              "<div>\n",
              "<style scoped>\n",
              "    .dataframe tbody tr th:only-of-type {\n",
              "        vertical-align: middle;\n",
              "    }\n",
              "\n",
              "    .dataframe tbody tr th {\n",
              "        vertical-align: top;\n",
              "    }\n",
              "\n",
              "    .dataframe thead th {\n",
              "        text-align: right;\n",
              "    }\n",
              "</style>\n",
              "<table border=\"1\" class=\"dataframe\">\n",
              "  <thead>\n",
              "    <tr style=\"text-align: right;\">\n",
              "      <th></th>\n",
              "      <th>date</th>\n",
              "      <th>account_id</th>\n",
              "      <th>user_id</th>\n",
              "    </tr>\n",
              "  </thead>\n",
              "  <tbody>\n",
              "    <tr>\n",
              "      <th>0</th>\n",
              "      <td>01/01/2021</td>\n",
              "      <td>A1</td>\n",
              "      <td>U1</td>\n",
              "    </tr>\n",
              "    <tr>\n",
              "      <th>1</th>\n",
              "      <td>01/01/2021</td>\n",
              "      <td>A1</td>\n",
              "      <td>U2</td>\n",
              "    </tr>\n",
              "    <tr>\n",
              "      <th>2</th>\n",
              "      <td>06/01/2021</td>\n",
              "      <td>A1</td>\n",
              "      <td>U3</td>\n",
              "    </tr>\n",
              "    <tr>\n",
              "      <th>3</th>\n",
              "      <td>02/01/2021</td>\n",
              "      <td>A1</td>\n",
              "      <td>U1</td>\n",
              "    </tr>\n",
              "    <tr>\n",
              "      <th>4</th>\n",
              "      <td>24/12/2020</td>\n",
              "      <td>A1</td>\n",
              "      <td>U2</td>\n",
              "    </tr>\n",
              "  </tbody>\n",
              "</table>\n",
              "</div>"
            ],
            "text/plain": [
              "         date account_id user_id\n",
              "0  01/01/2021         A1      U1\n",
              "1  01/01/2021         A1      U2\n",
              "2  06/01/2021         A1      U3\n",
              "3  02/01/2021         A1      U1\n",
              "4  24/12/2020         A1      U2"
            ]
          },
          "metadata": {},
          "output_type": "display_data"
        },
        {
          "data": {
            "text/markdown": [
              "### 2 - Quantidade de linhas e colunas"
            ],
            "text/plain": [
              "<IPython.core.display.Markdown object>"
            ]
          },
          "metadata": {},
          "output_type": "display_data"
        },
        {
          "name": "stdout",
          "output_type": "stream",
          "text": [
            "(23, 3)\n"
          ]
        },
        {
          "data": {
            "text/markdown": [
              "### 3 - Tipos de dados"
            ],
            "text/plain": [
              "<IPython.core.display.Markdown object>"
            ]
          },
          "metadata": {},
          "output_type": "display_data"
        },
        {
          "name": "stdout",
          "output_type": "stream",
          "text": [
            "<class 'pandas.core.frame.DataFrame'>\n",
            "RangeIndex: 23 entries, 0 to 22\n",
            "Data columns (total 3 columns):\n",
            " #   Column      Non-Null Count  Dtype \n",
            "---  ------      --------------  ----- \n",
            " 0   date        23 non-null     object\n",
            " 1   account_id  23 non-null     object\n",
            " 2   user_id     23 non-null     object\n",
            "dtypes: object(3)\n",
            "memory usage: 680.0+ bytes\n",
            "None\n"
          ]
        },
        {
          "data": {
            "text/markdown": [
              "### 4 - Estatísticas descritivas"
            ],
            "text/plain": [
              "<IPython.core.display.Markdown object>"
            ]
          },
          "metadata": {},
          "output_type": "display_data"
        },
        {
          "data": {
            "text/html": [
              "<div>\n",
              "<style scoped>\n",
              "    .dataframe tbody tr th:only-of-type {\n",
              "        vertical-align: middle;\n",
              "    }\n",
              "\n",
              "    .dataframe tbody tr th {\n",
              "        vertical-align: top;\n",
              "    }\n",
              "\n",
              "    .dataframe thead th {\n",
              "        text-align: right;\n",
              "    }\n",
              "</style>\n",
              "<table border=\"1\" class=\"dataframe\">\n",
              "  <thead>\n",
              "    <tr style=\"text-align: right;\">\n",
              "      <th></th>\n",
              "      <th>date</th>\n",
              "      <th>account_id</th>\n",
              "      <th>user_id</th>\n",
              "    </tr>\n",
              "  </thead>\n",
              "  <tbody>\n",
              "    <tr>\n",
              "      <th>count</th>\n",
              "      <td>23</td>\n",
              "      <td>23</td>\n",
              "      <td>23</td>\n",
              "    </tr>\n",
              "    <tr>\n",
              "      <th>unique</th>\n",
              "      <td>18</td>\n",
              "      <td>3</td>\n",
              "      <td>8</td>\n",
              "    </tr>\n",
              "    <tr>\n",
              "      <th>top</th>\n",
              "      <td>25/12/2020</td>\n",
              "      <td>A1</td>\n",
              "      <td>U4</td>\n",
              "    </tr>\n",
              "    <tr>\n",
              "      <th>freq</th>\n",
              "      <td>3</td>\n",
              "      <td>10</td>\n",
              "      <td>5</td>\n",
              "    </tr>\n",
              "  </tbody>\n",
              "</table>\n",
              "</div>"
            ],
            "text/plain": [
              "              date account_id user_id\n",
              "count           23         23      23\n",
              "unique          18          3       8\n",
              "top     25/12/2020         A1      U4\n",
              "freq             3         10       5"
            ]
          },
          "metadata": {},
          "output_type": "display_data"
        },
        {
          "data": {
            "text/markdown": [
              "### 5 - Valores ausentes por coluna"
            ],
            "text/plain": [
              "<IPython.core.display.Markdown object>"
            ]
          },
          "metadata": {},
          "output_type": "display_data"
        },
        {
          "name": "stdout",
          "output_type": "stream",
          "text": [
            "date          0\n",
            "account_id    0\n",
            "user_id       0\n",
            "dtype: int64\n"
          ]
        },
        {
          "data": {
            "text/markdown": [
              "### 6 - Valores únicos por coluna"
            ],
            "text/plain": [
              "<IPython.core.display.Markdown object>"
            ]
          },
          "metadata": {},
          "output_type": "display_data"
        },
        {
          "name": "stdout",
          "output_type": "stream",
          "text": [
            "date          18\n",
            "account_id     3\n",
            "user_id        8\n",
            "dtype: int64\n"
          ]
        },
        {
          "data": {
            "text/markdown": [
              "### 7 - Valores duplicados"
            ],
            "text/plain": [
              "<IPython.core.display.Markdown object>"
            ]
          },
          "metadata": {},
          "output_type": "display_data"
        },
        {
          "name": "stdout",
          "output_type": "stream",
          "text": [
            "2\n"
          ]
        }
      ],
      "source": [
        "# Carregar o CSV\n",
        "df_sf_events = pd.read_csv('../Data/Raw/sf_events.csv', sep=\";\")\n",
        "\n",
        "valida_df(df_sf_events, 'sf_events')"
      ]
    },
    {
      "cell_type": "markdown",
      "metadata": {},
      "source": [
        "## Consulta:\n",
        "\n",
        "- Crio uma base agrupando as contas e usuários por mês, filtrando apenas o período acima de Dez/2020 para reduzir processamento. \n",
        "- Crio uma base apenas com os registros de Dez/2020 e Jan/2021.\n",
        "- Marco uma flag se os usuários estão ativos em meses futuros.\n",
        "- Como a base está agrupada por usuário, conta e mês, conto todos os registros para varificar os ativos e somo a flag retidos para verificar os retidos. \n",
        "- Por fim, calculo a taxa para cada mês e a diferença entre Jan/2021 e Dez/2020.\n"
      ]
    },
    {
      "cell_type": "code",
      "execution_count": 37,
      "metadata": {},
      "outputs": [
        {
          "data": {
            "text/html": [
              "<div>\n",
              "<style scoped>\n",
              "    .dataframe tbody tr th:only-of-type {\n",
              "        vertical-align: middle;\n",
              "    }\n",
              "\n",
              "    .dataframe tbody tr th {\n",
              "        vertical-align: top;\n",
              "    }\n",
              "\n",
              "    .dataframe thead th {\n",
              "        text-align: right;\n",
              "    }\n",
              "</style>\n",
              "<table border=\"1\" class=\"dataframe\">\n",
              "  <thead>\n",
              "    <tr style=\"text-align: right;\">\n",
              "      <th></th>\n",
              "      <th>account_id</th>\n",
              "      <th>TAXA_RETENCAO_DEZ</th>\n",
              "      <th>TAXA_RETENCAO_JAN</th>\n",
              "      <th>DIF_TAXA_RET_JAN_DEZ</th>\n",
              "    </tr>\n",
              "  </thead>\n",
              "  <tbody>\n",
              "    <tr>\n",
              "      <th>0</th>\n",
              "      <td>A2</td>\n",
              "      <td>100.000000</td>\n",
              "      <td>100.000000</td>\n",
              "      <td>100.0</td>\n",
              "    </tr>\n",
              "    <tr>\n",
              "      <th>1</th>\n",
              "      <td>A3</td>\n",
              "      <td>50.000000</td>\n",
              "      <td>0.000000</td>\n",
              "      <td>0.0</td>\n",
              "    </tr>\n",
              "    <tr>\n",
              "      <th>2</th>\n",
              "      <td>A1</td>\n",
              "      <td>66.666667</td>\n",
              "      <td>66.666667</td>\n",
              "      <td>100.0</td>\n",
              "    </tr>\n",
              "  </tbody>\n",
              "</table>\n",
              "</div>"
            ],
            "text/plain": [
              "  account_id  TAXA_RETENCAO_DEZ  TAXA_RETENCAO_JAN  DIF_TAXA_RET_JAN_DEZ\n",
              "0         A2         100.000000         100.000000                 100.0\n",
              "1         A3          50.000000           0.000000                   0.0\n",
              "2         A1          66.666667          66.666667                 100.0"
            ]
          },
          "metadata": {},
          "output_type": "display_data"
        }
      ],
      "source": [
        "query = \"\"\"\n",
        "WITH USUARIOS_POR_MES AS (\n",
        "    SELECT\n",
        "        ACCOUNT_ID\n",
        "        ,USER_ID\n",
        "        -- CONVERTEMOS A DATA PARA O FORMATO ADEQUADO 'YYYY-MM-DD' E DEPOIS EXTRAÍMOS O ANO E O MÊS\n",
        "        ,EXTRACT(YEAR FROM CAST(SUBSTRING(DATE, 7, 4) || '-' || SUBSTRING(DATE, 4, 2) || '-' || SUBSTRING(DATE, 1, 2) AS DATE)) * 100 + \n",
        "        EXTRACT(MONTH FROM CAST(SUBSTRING(DATE, 7, 4) || '-' || SUBSTRING(DATE, 4, 2) || '-' || SUBSTRING(DATE, 1, 2) AS DATE)) AS ANO_MES\n",
        "    FROM\n",
        "        df_sf_events\n",
        "    WHERE 1 = 1\n",
        "      AND ANO_MES >= 202012\n",
        "    GROUP BY\n",
        "        ACCOUNT_ID, USER_ID, ANO_MES\n",
        "),\n",
        "USUARIOS_DEZ_JAN AS (\n",
        "    SELECT\n",
        "        ANO_MES\n",
        "        ,ACCOUNT_ID\n",
        "        ,USER_ID\n",
        "    FROM\n",
        "        USUARIOS_POR_MES\n",
        "    WHERE 1 = 1\n",
        "      AND ANO_MES IN (202012, 202101)\n",
        "\n",
        "),\n",
        "USUARIOS_ATIVOS_RETIDOS AS (\n",
        "    SELECT\n",
        "        A.ANO_MES \n",
        "        ,A.ACCOUNT_ID\n",
        "        ,A.USER_ID\n",
        "        -- VERIFICAR SE O USUÁRIO ESTEVE ATIVO EM QUALQUER MÊS FUTURO\n",
        "        ,MAX(CASE WHEN A.ANO_MES < B.ANO_MES THEN 1 ELSE 0 END) AS RETIDO\n",
        "    FROM\n",
        "        USUARIOS_DEZ_JAN A\n",
        "    LEFT JOIN\n",
        "        USUARIOS_POR_MES B \n",
        "    ON A.ACCOUNT_ID = B.ACCOUNT_ID \n",
        "    AND A.USER_ID = B.USER_ID\n",
        "    GROUP BY\n",
        "        A.ANO_MES, A.ACCOUNT_ID, A.USER_ID\n",
        "),\n",
        "CONTAS_ATIVOS_RETIDOS AS (\n",
        "    SELECT\n",
        "        A.ANO_MES, \n",
        "        A.ACCOUNT_ID,\n",
        "        COUNT(RETIDO) AS ATIVOS,\n",
        "        SUM(RETIDO) AS RETIDOS\n",
        "    FROM\n",
        "        USUARIOS_ATIVOS_RETIDOS A\n",
        "    GROUP BY A.ANO_MES, \n",
        "             A.ACCOUNT_ID\n",
        "),\n",
        "TAXA_RETENCAO AS (\n",
        "    SELECT A.ACCOUNT_ID,\n",
        "        MAX(CASE WHEN A.ANO_MES = 202012 AND RETIDOS > 0 THEN (RETIDOS / ATIVOS)*100 ELSE 0 END) AS TAXA_RETENCAO_DEZ,\n",
        "        MAX(CASE WHEN A.ANO_MES = 202101 AND RETIDOS > 0 THEN (RETIDOS / ATIVOS)*100 ELSE 0 END) AS TAXA_RETENCAO_JAN\n",
        "    FROM CONTAS_ATIVOS_RETIDOS A\n",
        "    GROUP BY A.ACCOUNT_ID\n",
        ") \n",
        "SELECT ACCOUNT_ID,\n",
        "       TAXA_RETENCAO_DEZ, \n",
        "       TAXA_RETENCAO_JAN,\n",
        "       CASE WHEN TAXA_RETENCAO_JAN > 0 THEN (TAXA_RETENCAO_JAN / TAXA_RETENCAO_DEZ)*100 ELSE 0 END AS DIF_TAXA_RET_JAN_DEZ\n",
        "         FROM TAXA_RETENCAO;\n",
        "\n",
        "\"\"\"\n",
        "\n",
        "\n",
        "# Executar o SQL\n",
        "result = duckdb.query(query).to_df()\n",
        "\n",
        "# Mostrar o resultado\n",
        "display(result)"
      ]
    },
    {
      "cell_type": "markdown",
      "metadata": {},
      "source": [
        "## Resultado: \n",
        "\n",
        "A conta A3 teve uma queda significativa na retenção, passando de 50% em dezembro para 0% em janeiro, indicando perda de engajamento.   \n",
        "A conta A1 manteve uma retenção estável de 66,67% em ambos os meses, o que sugere boa continuidade no engajamento.  \n",
        "Já a conta A2 teve uma retenção de 100% em ambos os meses, demonstrando alto sucesso em manter os usuários ativos.   \n",
        "Essas diferenças podem indicar áreas de melhoria para a conta A3 e boas práticas de retenção para as contas A1 e A2.\n",
        "\n",
        "---"
      ]
    },
    {
      "cell_type": "markdown",
      "metadata": {},
      "source": [
        "## **Case 6**\n",
        "Objetivo: **Selecione o `client_id` mais popular** com base na **contagem do número de usuários** que têm pelo menos **50% de seus eventos** da seguinte lista:  \n",
        "- `'video call received'`\n",
        "- `'video call sent'`\n",
        "- `'voice call received'`\n",
        "- `'voice call sent'`\n",
        "\n",
        "**Tabela:** fact_events.\n",
        "\n",
        "A tabela registra eventos detalhados relacionados a chamadas e atividades de usuários em diferentes clientes. \n",
        "Cada registro representa um evento individual, incluindo o tipo de evento, o cliente responsável e informações temporais. \n",
        "A base é utilizada para análises comportamentais e para identificar padrões de uso por cliente.\n",
        "\n",
        "\n",
        "**Dicionário de dados:**\n",
        "\n",
        "| **Campo**       | **Tipo**      | **Descrição**                                                         |\n",
        "|-----------------|---------------|-----------------------------------------------------------------------|\n",
        "| **id**          | `int`         | Identificador único do evento (chave primária).                       |\n",
        "| **time_id**     | `datetime`    | Data e hora em que o evento ocorreu.                                  |\n",
        "| **user_id**     | `varchar`     | Identificador único do usuário associado ao evento.                   |\n",
        "| **customer_id** | `varchar`     | Identificador do cliente responsável pelo evento.                     |\n",
        "| **client_id**   | `varchar`     | Identificador do cliente (software ou aplicativo utilizado).          |\n",
        "| **event_type**  | `varchar`     | Tipo de evento realizado (ex.: 'video call received', 'voice call sent'). |\n",
        "| **event_id**    | `int`         | Identificador único do tipo de evento.                                |"
      ]
    },
    {
      "cell_type": "markdown",
      "metadata": {},
      "source": [
        "## Leitura e validação:"
      ]
    },
    {
      "cell_type": "code",
      "execution_count": 38,
      "metadata": {},
      "outputs": [
        {
          "data": {
            "text/markdown": [
              "### 1 - Primeiras linhas do arquivo"
            ],
            "text/plain": [
              "<IPython.core.display.Markdown object>"
            ]
          },
          "metadata": {},
          "output_type": "display_data"
        },
        {
          "data": {
            "text/html": [
              "<div>\n",
              "<style scoped>\n",
              "    .dataframe tbody tr th:only-of-type {\n",
              "        vertical-align: middle;\n",
              "    }\n",
              "\n",
              "    .dataframe tbody tr th {\n",
              "        vertical-align: top;\n",
              "    }\n",
              "\n",
              "    .dataframe thead th {\n",
              "        text-align: right;\n",
              "    }\n",
              "</style>\n",
              "<table border=\"1\" class=\"dataframe\">\n",
              "  <thead>\n",
              "    <tr style=\"text-align: right;\">\n",
              "      <th></th>\n",
              "      <th>id</th>\n",
              "      <th>time_id</th>\n",
              "      <th>user_id</th>\n",
              "      <th>customer_id</th>\n",
              "      <th>client_id</th>\n",
              "      <th>event_type</th>\n",
              "      <th>event_id</th>\n",
              "    </tr>\n",
              "  </thead>\n",
              "  <tbody>\n",
              "    <tr>\n",
              "      <th>0</th>\n",
              "      <td>1</td>\n",
              "      <td>28/02/2020</td>\n",
              "      <td>3668-QPYBK</td>\n",
              "      <td>Sendit</td>\n",
              "      <td>desktop</td>\n",
              "      <td>message sent</td>\n",
              "      <td>3</td>\n",
              "    </tr>\n",
              "    <tr>\n",
              "      <th>1</th>\n",
              "      <td>2</td>\n",
              "      <td>28/02/2020</td>\n",
              "      <td>7892-POOKP</td>\n",
              "      <td>Connectix</td>\n",
              "      <td>mobile</td>\n",
              "      <td>file received</td>\n",
              "      <td>2</td>\n",
              "    </tr>\n",
              "    <tr>\n",
              "      <th>2</th>\n",
              "      <td>3</td>\n",
              "      <td>03/04/2020</td>\n",
              "      <td>9763-GRSKD</td>\n",
              "      <td>Zoomit</td>\n",
              "      <td>desktop</td>\n",
              "      <td>video call received</td>\n",
              "      <td>7</td>\n",
              "    </tr>\n",
              "    <tr>\n",
              "      <th>3</th>\n",
              "      <td>4</td>\n",
              "      <td>02/04/2020</td>\n",
              "      <td>9763-GRSKD</td>\n",
              "      <td>Connectix</td>\n",
              "      <td>desktop</td>\n",
              "      <td>video call received</td>\n",
              "      <td>7</td>\n",
              "    </tr>\n",
              "    <tr>\n",
              "      <th>4</th>\n",
              "      <td>5</td>\n",
              "      <td>06/02/2020</td>\n",
              "      <td>9237-HQITU</td>\n",
              "      <td>Sendit</td>\n",
              "      <td>desktop</td>\n",
              "      <td>video call received</td>\n",
              "      <td>7</td>\n",
              "    </tr>\n",
              "  </tbody>\n",
              "</table>\n",
              "</div>"
            ],
            "text/plain": [
              "   id     time_id     user_id customer_id client_id           event_type  \\\n",
              "0   1  28/02/2020  3668-QPYBK      Sendit   desktop         message sent   \n",
              "1   2  28/02/2020  7892-POOKP   Connectix    mobile        file received   \n",
              "2   3  03/04/2020  9763-GRSKD      Zoomit   desktop  video call received   \n",
              "3   4  02/04/2020  9763-GRSKD   Connectix   desktop  video call received   \n",
              "4   5  06/02/2020  9237-HQITU      Sendit   desktop  video call received   \n",
              "\n",
              "   event_id  \n",
              "0         3  \n",
              "1         2  \n",
              "2         7  \n",
              "3         7  \n",
              "4         7  "
            ]
          },
          "metadata": {},
          "output_type": "display_data"
        },
        {
          "data": {
            "text/markdown": [
              "### 2 - Quantidade de linhas e colunas"
            ],
            "text/plain": [
              "<IPython.core.display.Markdown object>"
            ]
          },
          "metadata": {},
          "output_type": "display_data"
        },
        {
          "name": "stdout",
          "output_type": "stream",
          "text": [
            "(150, 7)\n"
          ]
        },
        {
          "data": {
            "text/markdown": [
              "### 3 - Tipos de dados"
            ],
            "text/plain": [
              "<IPython.core.display.Markdown object>"
            ]
          },
          "metadata": {},
          "output_type": "display_data"
        },
        {
          "name": "stdout",
          "output_type": "stream",
          "text": [
            "<class 'pandas.core.frame.DataFrame'>\n",
            "RangeIndex: 150 entries, 0 to 149\n",
            "Data columns (total 7 columns):\n",
            " #   Column       Non-Null Count  Dtype \n",
            "---  ------       --------------  ----- \n",
            " 0   id           150 non-null    int64 \n",
            " 1   time_id      150 non-null    object\n",
            " 2   user_id      150 non-null    object\n",
            " 3   customer_id  150 non-null    object\n",
            " 4   client_id    150 non-null    object\n",
            " 5   event_type   150 non-null    object\n",
            " 6   event_id     150 non-null    int64 \n",
            "dtypes: int64(2), object(5)\n",
            "memory usage: 8.3+ KB\n",
            "None\n"
          ]
        },
        {
          "data": {
            "text/markdown": [
              "### 4 - Estatísticas descritivas"
            ],
            "text/plain": [
              "<IPython.core.display.Markdown object>"
            ]
          },
          "metadata": {},
          "output_type": "display_data"
        },
        {
          "data": {
            "text/html": [
              "<div>\n",
              "<style scoped>\n",
              "    .dataframe tbody tr th:only-of-type {\n",
              "        vertical-align: middle;\n",
              "    }\n",
              "\n",
              "    .dataframe tbody tr th {\n",
              "        vertical-align: top;\n",
              "    }\n",
              "\n",
              "    .dataframe thead th {\n",
              "        text-align: right;\n",
              "    }\n",
              "</style>\n",
              "<table border=\"1\" class=\"dataframe\">\n",
              "  <thead>\n",
              "    <tr style=\"text-align: right;\">\n",
              "      <th></th>\n",
              "      <th>id</th>\n",
              "      <th>time_id</th>\n",
              "      <th>user_id</th>\n",
              "      <th>customer_id</th>\n",
              "      <th>client_id</th>\n",
              "      <th>event_type</th>\n",
              "      <th>event_id</th>\n",
              "    </tr>\n",
              "  </thead>\n",
              "  <tbody>\n",
              "    <tr>\n",
              "      <th>count</th>\n",
              "      <td>150.000000</td>\n",
              "      <td>150</td>\n",
              "      <td>150</td>\n",
              "      <td>150</td>\n",
              "      <td>150</td>\n",
              "      <td>150</td>\n",
              "      <td>150.000000</td>\n",
              "    </tr>\n",
              "    <tr>\n",
              "      <th>unique</th>\n",
              "      <td>NaN</td>\n",
              "      <td>62</td>\n",
              "      <td>20</td>\n",
              "      <td>5</td>\n",
              "      <td>2</td>\n",
              "      <td>9</td>\n",
              "      <td>NaN</td>\n",
              "    </tr>\n",
              "    <tr>\n",
              "      <th>top</th>\n",
              "      <td>NaN</td>\n",
              "      <td>02/03/2020</td>\n",
              "      <td>8091-TTVAX</td>\n",
              "      <td>Connectix</td>\n",
              "      <td>desktop</td>\n",
              "      <td>message received</td>\n",
              "      <td>NaN</td>\n",
              "    </tr>\n",
              "    <tr>\n",
              "      <th>freq</th>\n",
              "      <td>NaN</td>\n",
              "      <td>9</td>\n",
              "      <td>11</td>\n",
              "      <td>82</td>\n",
              "      <td>89</td>\n",
              "      <td>29</td>\n",
              "      <td>NaN</td>\n",
              "    </tr>\n",
              "    <tr>\n",
              "      <th>mean</th>\n",
              "      <td>75.500000</td>\n",
              "      <td>NaN</td>\n",
              "      <td>NaN</td>\n",
              "      <td>NaN</td>\n",
              "      <td>NaN</td>\n",
              "      <td>NaN</td>\n",
              "      <td>4.246667</td>\n",
              "    </tr>\n",
              "    <tr>\n",
              "      <th>std</th>\n",
              "      <td>43.445368</td>\n",
              "      <td>NaN</td>\n",
              "      <td>NaN</td>\n",
              "      <td>NaN</td>\n",
              "      <td>NaN</td>\n",
              "      <td>NaN</td>\n",
              "      <td>2.377006</td>\n",
              "    </tr>\n",
              "    <tr>\n",
              "      <th>min</th>\n",
              "      <td>1.000000</td>\n",
              "      <td>NaN</td>\n",
              "      <td>NaN</td>\n",
              "      <td>NaN</td>\n",
              "      <td>NaN</td>\n",
              "      <td>NaN</td>\n",
              "      <td>1.000000</td>\n",
              "    </tr>\n",
              "    <tr>\n",
              "      <th>25%</th>\n",
              "      <td>38.250000</td>\n",
              "      <td>NaN</td>\n",
              "      <td>NaN</td>\n",
              "      <td>NaN</td>\n",
              "      <td>NaN</td>\n",
              "      <td>NaN</td>\n",
              "      <td>2.000000</td>\n",
              "    </tr>\n",
              "    <tr>\n",
              "      <th>50%</th>\n",
              "      <td>75.500000</td>\n",
              "      <td>NaN</td>\n",
              "      <td>NaN</td>\n",
              "      <td>NaN</td>\n",
              "      <td>NaN</td>\n",
              "      <td>NaN</td>\n",
              "      <td>4.000000</td>\n",
              "    </tr>\n",
              "    <tr>\n",
              "      <th>75%</th>\n",
              "      <td>112.750000</td>\n",
              "      <td>NaN</td>\n",
              "      <td>NaN</td>\n",
              "      <td>NaN</td>\n",
              "      <td>NaN</td>\n",
              "      <td>NaN</td>\n",
              "      <td>6.000000</td>\n",
              "    </tr>\n",
              "    <tr>\n",
              "      <th>max</th>\n",
              "      <td>150.000000</td>\n",
              "      <td>NaN</td>\n",
              "      <td>NaN</td>\n",
              "      <td>NaN</td>\n",
              "      <td>NaN</td>\n",
              "      <td>NaN</td>\n",
              "      <td>9.000000</td>\n",
              "    </tr>\n",
              "  </tbody>\n",
              "</table>\n",
              "</div>"
            ],
            "text/plain": [
              "                id     time_id     user_id customer_id client_id  \\\n",
              "count   150.000000         150         150         150       150   \n",
              "unique         NaN          62          20           5         2   \n",
              "top            NaN  02/03/2020  8091-TTVAX   Connectix   desktop   \n",
              "freq           NaN           9          11          82        89   \n",
              "mean     75.500000         NaN         NaN         NaN       NaN   \n",
              "std      43.445368         NaN         NaN         NaN       NaN   \n",
              "min       1.000000         NaN         NaN         NaN       NaN   \n",
              "25%      38.250000         NaN         NaN         NaN       NaN   \n",
              "50%      75.500000         NaN         NaN         NaN       NaN   \n",
              "75%     112.750000         NaN         NaN         NaN       NaN   \n",
              "max     150.000000         NaN         NaN         NaN       NaN   \n",
              "\n",
              "              event_type    event_id  \n",
              "count                150  150.000000  \n",
              "unique                 9         NaN  \n",
              "top     message received         NaN  \n",
              "freq                  29         NaN  \n",
              "mean                 NaN    4.246667  \n",
              "std                  NaN    2.377006  \n",
              "min                  NaN    1.000000  \n",
              "25%                  NaN    2.000000  \n",
              "50%                  NaN    4.000000  \n",
              "75%                  NaN    6.000000  \n",
              "max                  NaN    9.000000  "
            ]
          },
          "metadata": {},
          "output_type": "display_data"
        },
        {
          "data": {
            "text/markdown": [
              "### 5 - Valores ausentes por coluna"
            ],
            "text/plain": [
              "<IPython.core.display.Markdown object>"
            ]
          },
          "metadata": {},
          "output_type": "display_data"
        },
        {
          "name": "stdout",
          "output_type": "stream",
          "text": [
            "id             0\n",
            "time_id        0\n",
            "user_id        0\n",
            "customer_id    0\n",
            "client_id      0\n",
            "event_type     0\n",
            "event_id       0\n",
            "dtype: int64\n"
          ]
        },
        {
          "data": {
            "text/markdown": [
              "### 6 - Valores únicos por coluna"
            ],
            "text/plain": [
              "<IPython.core.display.Markdown object>"
            ]
          },
          "metadata": {},
          "output_type": "display_data"
        },
        {
          "name": "stdout",
          "output_type": "stream",
          "text": [
            "id             150\n",
            "time_id         62\n",
            "user_id         20\n",
            "customer_id      5\n",
            "client_id        2\n",
            "event_type       9\n",
            "event_id         9\n",
            "dtype: int64\n"
          ]
        },
        {
          "data": {
            "text/markdown": [
              "### 7 - Valores duplicados"
            ],
            "text/plain": [
              "<IPython.core.display.Markdown object>"
            ]
          },
          "metadata": {},
          "output_type": "display_data"
        },
        {
          "name": "stdout",
          "output_type": "stream",
          "text": [
            "0\n"
          ]
        }
      ],
      "source": [
        "# Carregar o CSV\n",
        "df_fact_events = pd.read_csv('../Data/Raw/fact_events.csv', sep=\";\")\n",
        "\n",
        "valida_df(df_fact_events, 'fact_events')"
      ]
    },
    {
      "cell_type": "markdown",
      "metadata": {},
      "source": [
        "## Consulta:\n",
        "- Agrupo todos os eventos por usuário e cliente, somando em uma coluna eventos totais e outra com os eventos de interesse que devem ser acima de 50%.\n",
        "- Calculo quais usuários tiveram pelo menos 50% dos eventos na lista.\n",
        "- Agrupo por clientes somando os usuarios do perfil acima.\n",
        "- Por fim, trago apenas o primeiro registro pois o interesse é em saber o mais popular. "
      ]
    },
    {
      "cell_type": "code",
      "execution_count": 40,
      "metadata": {},
      "outputs": [
        {
          "data": {
            "text/html": [
              "<div>\n",
              "<style scoped>\n",
              "    .dataframe tbody tr th:only-of-type {\n",
              "        vertical-align: middle;\n",
              "    }\n",
              "\n",
              "    .dataframe tbody tr th {\n",
              "        vertical-align: top;\n",
              "    }\n",
              "\n",
              "    .dataframe thead th {\n",
              "        text-align: right;\n",
              "    }\n",
              "</style>\n",
              "<table border=\"1\" class=\"dataframe\">\n",
              "  <thead>\n",
              "    <tr style=\"text-align: right;\">\n",
              "      <th></th>\n",
              "      <th>client_id</th>\n",
              "      <th>qtd_usuarios</th>\n",
              "    </tr>\n",
              "  </thead>\n",
              "  <tbody>\n",
              "    <tr>\n",
              "      <th>0</th>\n",
              "      <td>desktop</td>\n",
              "      <td>3</td>\n",
              "    </tr>\n",
              "  </tbody>\n",
              "</table>\n",
              "</div>"
            ],
            "text/plain": [
              "  client_id  qtd_usuarios\n",
              "0   desktop             3"
            ]
          },
          "metadata": {},
          "output_type": "display_data"
        }
      ],
      "source": [
        "query = \"\"\"\n",
        "WITH Eventos AS (\n",
        "    SELECT\n",
        "        client_id,\n",
        "        user_id,\n",
        "        COUNT(*) AS eventos_total,\n",
        "        COUNT(CASE WHEN event_type IN ('video call received', 'video call sent', 'voice call received', 'voice call sent') THEN 1 END) AS eventos_50\n",
        "    FROM df_fact_events\n",
        "    GROUP BY client_id, user_id\n",
        "),\n",
        "UsuariosValidos AS (\n",
        "    SELECT\n",
        "        client_id,\n",
        "        user_id\n",
        "    FROM Eventos\n",
        "    WHERE eventos_50 / eventos_total >= 0.5  -- Pelo menos 50% dos eventos são da lista desejada\n",
        ")\n",
        "SELECT client_id, COUNT(DISTINCT user_id) AS qtd_usuarios\n",
        "FROM UsuariosValidos\n",
        "GROUP BY client_id\n",
        "ORDER BY qtd_usuarios DESC\n",
        "LIMIT 1; -- seleciona o mais popular. \n",
        "\"\"\"\n",
        "\n",
        "# Executar o SQL\n",
        "result = duckdb.query(query).to_df()\n",
        "\n",
        "# Mostrar o resultado\n",
        "display(result)"
      ]
    },
    {
      "cell_type": "markdown",
      "metadata": {},
      "source": [
        "## Resultado: \n",
        "\n",
        "O client_id \"desktop\" é o mais popular, com 3 usuários que têm pelo menos 50% de seus eventos relacionados a chamadas de voz e vídeo, indicando um alto nível de engajamento nesse tipo de atividade."
      ]
    }
  ],
  "metadata": {
    "colab": {
      "provenance": []
    },
    "kernelspec": {
      "display_name": ".venv",
      "language": "python",
      "name": "python3"
    },
    "language_info": {
      "codemirror_mode": {
        "name": "ipython",
        "version": 3
      },
      "file_extension": ".py",
      "mimetype": "text/x-python",
      "name": "python",
      "nbconvert_exporter": "python",
      "pygments_lexer": "ipython3",
      "version": "3.8.3"
    }
  },
  "nbformat": 4,
  "nbformat_minor": 0
}
